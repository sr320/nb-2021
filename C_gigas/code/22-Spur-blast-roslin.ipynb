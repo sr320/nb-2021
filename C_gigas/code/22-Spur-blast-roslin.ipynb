{
 "cells": [
  {
   "cell_type": "markdown",
   "metadata": {},
   "source": [
    "# Roslin 2 sea urchin"
   ]
  },
  {
   "cell_type": "markdown",
   "metadata": {},
   "source": [
    "For SC now will use Roslin genome + mito genome.; will go to mox for that.."
   ]
  },
  {
   "cell_type": "markdown",
   "metadata": {},
   "source": [
    "```\n",
    "[sr320@mox1 032621-roslin-spur]$ cat job.sh \n",
    "#!/bin/bash\n",
    "## Job Name\n",
    "#SBATCH --job-name=cg-spur\n",
    "## Allocation Definition\n",
    "#SBATCH --account=coenv \n",
    "#SBATCH --partition=coenv\n",
    "## Resources Nodes\n",
    "#SBATCH --nodes=1\n",
    "## Walltime (days-hours:minutes:seconds format)\n",
    "#SBATCH --time=4-12:00:00\n",
    "## Memory per node\n",
    "#SBATCH --mem=120G\n",
    "##turn on e-mail notification\n",
    "#SBATCH --mail-type=ALL \n",
    "#SBATCH --mail-user=sr320@uw.edu\n",
    "## Specify the working directory for this job\n",
    "#SBATCH --chdir=/gscratch/scrubbed/sr320/032621-roslin-spur\n",
    "\n",
    "\n",
    "# Load Python Mox module for Python module availability\n",
    "\n",
    "module load intel-python3_2017\n",
    "\n",
    "\n",
    "\n",
    "\n",
    "source /gscratch/srlab/programs/scripts/paths.sh\n",
    "\n",
    "\n",
    "\n",
    "/gscratch/srlab/programs/ncbi-blast-2.10.1+/bin/blastx \\\n",
    "-query /gscratch/srlab/sr320/data/Cgig-genome/roslin_M/cgigas_uk_roslin_v1_genomic-mito.fa \\\n",
    "-db /gscratch/srlab/sr320/blastdb/ProteinsSpur5.0 \\\n",
    "-out /gscratch/scrubbed/sr320/032621-roslin-spur/Cg-blastx-spur.tab \\\n",
    "-num_threads 40 \\\n",
    "-max_target_seqs 1 \\\n",
    "-max_hsps 1 \\\n",
    "-outfmt \"6 qaccver saccver evalue\"\n",
    "\n",
    "```"
   ]
  },
  {
   "cell_type": "code",
   "execution_count": 3,
   "metadata": {},
   "outputs": [
    {
     "name": "stdout",
     "output_type": "stream",
     "text": [
      "  % Total    % Received % Xferd  Average Speed   Time    Time     Time  Current\n",
      "                                 Dload  Upload   Total   Spent    Left  Speed\n",
      "100  8565  100  8565    0     0  16598      0 --:--:-- --:--:-- --:--:-- 16566\n"
     ]
    }
   ],
   "source": [
    "!curl -o ../data/CgR-blastx-spur.tab \\\n",
    "https://gannet.fish.washington.edu/seashell/bu-mox/scrubbed/032621-roslin-spur/Cg-blastx-spur.tab"
   ]
  },
  {
   "cell_type": "markdown",
   "metadata": {},
   "source": [
    "# STUPID WASTE OF TIME - THIS WAS GENOME!"
   ]
  },
  {
   "cell_type": "code",
   "execution_count": null,
   "metadata": {},
   "outputs": [],
   "source": []
  }
 ],
 "metadata": {
  "kernelspec": {
   "display_name": "Python 3",
   "language": "python",
   "name": "python3"
  },
  "language_info": {
   "codemirror_mode": {
    "name": "ipython",
    "version": 3
   },
   "file_extension": ".py",
   "mimetype": "text/x-python",
   "name": "python",
   "nbconvert_exporter": "python",
   "pygments_lexer": "ipython3",
   "version": "3.8.5"
  }
 },
 "nbformat": 4,
 "nbformat_minor": 4
}
