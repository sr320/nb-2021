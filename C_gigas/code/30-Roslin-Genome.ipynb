{
 "cells": [
  {
   "cell_type": "markdown",
   "metadata": {},
   "source": [
    "# Trying to Figure out Roslin genome"
   ]
  },
  {
   "cell_type": "markdown",
   "metadata": {},
   "source": [
    "## What we are using in March 2021"
   ]
  },
  {
   "cell_type": "code",
   "execution_count": 1,
   "metadata": {},
   "outputs": [
    {
     "name": "stdout",
     "output_type": "stream",
     "text": [
      "  % Total    % Received % Xferd  Average Speed   Time    Time     Time  Current\n",
      "                                 Dload  Upload   Total   Spent    Left  Speed\n",
      "100  625M  100  625M    0     0  2851k      0  0:03:44  0:03:44 --:--:-- 2763k4k9k:05  0:02:41 2972k03:45  0:01:08  0:02:37 3121k1  0:02:26 2471k 3054k0:02:33  0:01:11 2822k3:44  0:02:43  0:01:01 2566k0  0:03:43  0:02:58  0:00:45 2866k  0  0:03:44  0:03:41  0:00:03 2585k\n"
     ]
    }
   ],
   "source": [
    "!curl -O https://gannet.fish.washington.edu/seashell/bu-mox/data/Cgig-genome/roslin_M/cgigas_uk_roslin_v1_genomic-mito.fa"
   ]
  },
  {
   "cell_type": "code",
   "execution_count": 2,
   "metadata": {},
   "outputs": [
    {
     "data": {
      "text/plain": [
       "'/Users/sr320/Documents/GitHub/nb-2021/C_gigas/code'"
      ]
     },
     "execution_count": 2,
     "metadata": {},
     "output_type": "execute_result"
    }
   ],
   "source": [
    "pwd"
   ]
  },
  {
   "cell_type": "code",
   "execution_count": 3,
   "metadata": {},
   "outputs": [
    {
     "name": "stdout",
     "output_type": "stream",
     "text": [
      "MD5 (../data/cgigas_uk_roslin_v1_genomic-mito.fa) = d1d1e708529e459f27322c9131cc846e\n"
     ]
    }
   ],
   "source": [
    "!md5 ../data/cgigas_uk_roslin_v1_genomic-mito.fa"
   ]
  },
  {
   "cell_type": "code",
   "execution_count": null,
   "metadata": {},
   "outputs": [],
   "source": [
    "!curl -O https://gannet.fish.washington.edu/seashell/bu-mox/data/Cgig-genome/roslin_M/cgigas_uk_roslin_v1_genomic-mito.fa"
   ]
  },
  {
   "cell_type": "code",
   "execution_count": null,
   "metadata": {},
   "outputs": [],
   "source": []
  },
  {
   "cell_type": "code",
   "execution_count": 4,
   "metadata": {},
   "outputs": [
    {
     "name": "stdout",
     "output_type": "stream",
     "text": [
      "237\n"
     ]
    }
   ],
   "source": [
    "!grep -c \">\" ../data/cgigas_uk_roslin_v1_genomic-mito.fa"
   ]
  },
  {
   "cell_type": "code",
   "execution_count": 1,
   "metadata": {},
   "outputs": [
    {
     "name": "stdout",
     "output_type": "stream",
     "text": [
      ">NW_022994990.1 Crassostrea gigas unplaced genomic scaffold, cgigas_uk_roslin_v1, whole genome shotgun sequence\n",
      ">NW_022994991.1 Crassostrea gigas unplaced genomic scaffold, cgigas_uk_roslin_v1, whole genome shotgun sequence\n",
      ">NW_022994992.1 Crassostrea gigas unplaced genomic scaffold, cgigas_uk_roslin_v1, whole genome shotgun sequence\n",
      ">NW_022994993.1 Crassostrea gigas unplaced genomic scaffold, cgigas_uk_roslin_v1, whole genome shotgun sequence\n",
      ">NW_022994994.1 Crassostrea gigas unplaced genomic scaffold, cgigas_uk_roslin_v1, whole genome shotgun sequence\n",
      ">NW_022994995.1 Crassostrea gigas unplaced genomic scaffold, cgigas_uk_roslin_v1, whole genome shotgun sequence\n",
      ">NW_022994996.1 Crassostrea gigas unplaced genomic scaffold, cgigas_uk_roslin_v1, whole genome shotgun sequence\n",
      ">NW_022994997.1 Crassostrea gigas unplaced genomic scaffold, cgigas_uk_roslin_v1, whole genome shotgun sequence\n",
      ">NW_022994998.1 Crassostrea gigas unplaced genomic scaffold, cgigas_uk_roslin_v1, whole genome shotgun sequence\n",
      ">NC_001276.1 Crassostrea gigas mitochondrion, complete genome\n"
     ]
    }
   ],
   "source": [
    "!grep \">\" ../data/cgigas_uk_roslin_v1_genomic-mito.fa | tail"
   ]
  },
  {
   "cell_type": "markdown",
   "metadata": {},
   "source": [
    "## Dataset GFF / GTF "
   ]
  },
  {
   "cell_type": "code",
   "execution_count": 72,
   "metadata": {},
   "outputs": [],
   "source": [
    "\n",
    "gff=\"/Users/sr320/Downloads/ROSLIN/ncbi_dataset/data/GCF_902806645.1/genomic.sorted.gff\"\n"
   ]
  },
  {
   "cell_type": "code",
   "execution_count": 74,
   "metadata": {},
   "outputs": [
    {
     "name": "stdout",
     "output_type": "stream",
     "text": [
      "##gff-version 3\n",
      "#!gff-spec-version 1.21\n",
      "#!processor NCBI annotwriter\n",
      "#!genome-build cgigas_uk_roslin_v1\n",
      "#!genome-build-accession NCBI_Assembly:GCF_902806645.1\n",
      "#!annotation-source NCBI Crassostrea gigas Annotation Release 102\n",
      "##sequence-region NC_047559.1 1 55785328\n",
      "##species https://www.ncbi.nlm.nih.gov/Taxonomy/Browser/wwwtax.cgi?id=29159\n"
     ]
    }
   ],
   "source": [
    "!grep \"#\" $gff"
   ]
  },
  {
   "cell_type": "code",
   "execution_count": 73,
   "metadata": {},
   "outputs": [
    {
     "name": "stdout",
     "output_type": "stream",
     "text": [
      "##gff-version 3\n",
      "#!gff-spec-version 1.21\n",
      "#!processor NCBI annotwriter\n",
      "#!genome-build cgigas_uk_roslin_v1\n",
      "#!genome-build-accession NCBI_Assembly:GCF_902806645.1\n",
      "#!annotation-source NCBI Crassostrea gigas Annotation Release 102\n",
      "##sequence-region NC_047559.1 1 55785328\n",
      "##species https://www.ncbi.nlm.nih.gov/Taxonomy/Browser/wwwtax.cgi?id=29159\n",
      "NC_047559.1\tRefSeq\tregion\t1\t55785328\t.\t+\t.\tID=NC_047559.1:1..55785328;Dbxref=taxon:29159;Name=1;gbkey=Src;genome=chromosome;linkage-group=1;mol_type=genomic DNA\n",
      "NC_047559.1\tGnomon\tgene\t9839\t11386\t.\t+\t.\tID=gene-LOC117693020;Dbxref=GeneID:117693020;Name=LOC117693020;gbkey=Gene;gene=LOC117693020;gene_biotype=lncRNA\n",
      "NC_047559.1\tGnomon\tlnc_RNA\t9839\t11386\t.\t+\t.\tID=rna-XR_004604272.1;Parent=gene-LOC117693020;Dbxref=GeneID:117693020,Genbank:XR_004604272.1;Name=XR_004604272.1;gbkey=ncRNA;gene=LOC117693020;model_evidence=Supporting evidence includes similarity to: 1 EST%2C and 100%25 coverage of the annotated genomic feature by RNAseq alignments%2C including 15 samples with support for all annotated introns;product=uncharacterized LOC117693020;transcript_id=XR_004604272.1\n",
      "NC_047559.1\tGnomon\texon\t9839\t9922\t.\t+\t.\tID=exon-XR_004604272.1-1;Parent=rna-XR_004604272.1;Dbxref=GeneID:117693020,Genbank:XR_004604272.1;gbkey=ncRNA;gene=LOC117693020;product=uncharacterized LOC117693020;transcript_id=XR_004604272.1\n",
      "NC_047559.1\tGnomon\texon\t10884\t11386\t.\t+\t.\tID=exon-XR_004604272.1-2;Parent=rna-XR_004604272.1;Dbxref=GeneID:117693020,Genbank:XR_004604272.1;gbkey=ncRNA;gene=LOC117693020;product=uncharacterized LOC117693020;transcript_id=XR_004604272.1\n",
      "NC_047559.1\tGnomon\tgene\t14114\t15804\t.\t+\t.\tID=gene-LOC109621113;Dbxref=GeneID:109621113;Name=LOC109621113;gbkey=Gene;gene=LOC109621113;gene_biotype=protein_coding\n",
      "NC_047559.1\tGnomon\tmRNA\t14114\t15804\t.\t+\t.\tID=rna-XM_034463183.1;Parent=gene-LOC109621113;Dbxref=GeneID:109621113,Genbank:XM_034463183.1;Name=XM_034463183.1;gbkey=mRNA;gene=LOC109621113;model_evidence=Supporting evidence includes similarity to: 78%25 coverage of the annotated genomic feature by RNAseq alignments%2C including 21 samples with support for all annotated introns;product=uncharacterized LOC109621113;transcript_id=XM_034463183.1\n",
      "NC_047559.1\tGnomon\texon\t14114\t14545\t.\t+\t.\tID=exon-XM_034463183.1-1;Parent=rna-XM_034463183.1;Dbxref=GeneID:109621113,Genbank:XM_034463183.1;gbkey=mRNA;gene=LOC109621113;product=uncharacterized LOC109621113;transcript_id=XM_034463183.1\n",
      "NC_047559.1\tGnomon\texon\t14812\t14867\t.\t+\t.\tID=exon-XM_034463183.1-2;Parent=rna-XM_034463183.1;Dbxref=GeneID:109621113,Genbank:XM_034463183.1;gbkey=mRNA;gene=LOC109621113;product=uncharacterized LOC109621113;transcript_id=XM_034463183.1\n",
      "NC_047559.1\tGnomon\tCDS\t14843\t14867\t.\t+\t0\tID=cds-XP_034319074.1;Parent=rna-XM_034463183.1;Dbxref=GeneID:109621113,Genbank:XP_034319074.1;Name=XP_034319074.1;gbkey=CDS;gene=LOC109621113;product=uncharacterized protein LOC109621113;protein_id=XP_034319074.1\n",
      "NC_047559.1\tGnomon\texon\t14958\t15452\t.\t+\t.\tID=exon-XM_034463183.1-3;Parent=rna-XM_034463183.1;Dbxref=GeneID:109621113,Genbank:XM_034463183.1;gbkey=mRNA;gene=LOC109621113;product=uncharacterized LOC109621113;transcript_id=XM_034463183.1\n",
      "NC_047559.1\tGnomon\tCDS\t14958\t15452\t.\t+\t2\tID=cds-XP_034319074.1;Parent=rna-XM_034463183.1;Dbxref=GeneID:109621113,Genbank:XP_034319074.1;Name=XP_034319074.1;gbkey=CDS;gene=LOC109621113;product=uncharacterized protein LOC109621113;protein_id=XP_034319074.1\n"
     ]
    }
   ],
   "source": [
    "!head -20 $gff"
   ]
  },
  {
   "cell_type": "code",
   "execution_count": 10,
   "metadata": {},
   "outputs": [
    {
     "name": "stdout",
     "output_type": "stream",
     "text": [
      "1620054 /Users/sr320/Downloads/ROSLIN/ncbi_dataset/data/GCF_902806645.1/genomic.sorted.gff\n"
     ]
    }
   ],
   "source": [
    "!wc -l /Users/sr320/Downloads/ROSLIN/ncbi_dataset/data/GCF_902806645.1/genomic.sorted.gff"
   ]
  },
  {
   "cell_type": "code",
   "execution_count": 32,
   "metadata": {},
   "outputs": [
    {
     "name": "stdout",
     "output_type": "stream",
     "text": [
      "   2448 BestRefSeq\n",
      "     48 BestRefSeq%2CGnomon\n",
      "1606186 Gnomon\n",
      "   8761 RefSeq\n",
      "    626 cmsearch\n",
      "   1977 tRNAscan-SE\n"
     ]
    }
   ],
   "source": [
    "!cat /Users/sr320/Downloads/ROSLIN/ncbi_dataset/data/GCF_902806645.1/genomic.sorted.gff \\\n",
    "| grep -v '#' \\\n",
    "| cut -f2 \\\n",
    "| sort \\\n",
    "| uniq -c \\\n",
    "| head -30"
   ]
  },
  {
   "cell_type": "code",
   "execution_count": 34,
   "metadata": {},
   "outputs": [
    {
     "name": "stdout",
     "output_type": "stream",
     "text": [
      "   1091 BestRefSeq\tCDS\n",
      "   1141 BestRefSeq\texon\n",
      "     81 BestRefSeq\tgene\n",
      "    135 BestRefSeq\tmRNA\n",
      "     48 BestRefSeq%2CGnomon\tgene\n",
      " 699308 Gnomon\tCDS\n",
      " 796594 Gnomon\texon\n",
      "  37236 Gnomon\tgene\n",
      "   7247 Gnomon\tlnc_RNA\n",
      "  63206 Gnomon\tmRNA\n",
      "     78 Gnomon\tpseudogene\n",
      "   2517 Gnomon\ttranscript\n",
      "   8525 RefSeq\tcDNA_match\n",
      "    236 RefSeq\tregion\n",
      "    212 cmsearch\texon\n",
      "    202 cmsearch\tgene\n",
      "      1 cmsearch\tguide_RNA\n",
      "     10 cmsearch\tpseudogene\n",
      "     55 cmsearch\trRNA\n",
      "    114 cmsearch\tsnRNA\n",
      "     32 cmsearch\tsnoRNA\n",
      "    695 tRNAscan-SE\texon\n",
      "    641 tRNAscan-SE\tgene\n",
      "    641 tRNAscan-SE\ttRNA\n"
     ]
    }
   ],
   "source": [
    "!cat /Users/sr320/Downloads/ROSLIN/ncbi_dataset/data/GCF_902806645.1/genomic.sorted.gff \\\n",
    "| grep -v '#' \\\n",
    "| cut -f2,3 \\\n",
    "| sort \\\n",
    "| uniq -c "
   ]
  },
  {
   "cell_type": "code",
   "execution_count": 36,
   "metadata": {},
   "outputs": [
    {
     "name": "stdout",
     "output_type": "stream",
     "text": [
      "#gtf-version 2.2\n",
      "#!genome-build cgigas_uk_roslin_v1\n",
      "#!genome-build-accession NCBI_Assembly:GCF_902806645.1\n",
      "#!annotation-source NCBI Crassostrea gigas Annotation Release 102\n",
      "NC_047559.1\tGnomon\tgene\t9839\t11386\t.\t+\t.\tgene_id \"LOC117693020\"; db_xref \"GeneID:117693020\"; gbkey \"Gene\"; gene \"LOC117693020\"; gene_biotype \"lncRNA\"; \n",
      "NC_047559.1\tGnomon\texon\t9839\t9922\t.\t+\t.\tgene_id \"LOC117693020\"; transcript_id \"XR_004604272.1\"; db_xref \"GeneID:117693020\"; gbkey \"ncRNA\"; gene \"LOC117693020\"; model_evidence \"Supporting evidence includes similarity to: 1 EST, and 100% coverage of the annotated genomic feature by RNAseq alignments, including 15 samples with support for all annotated introns\"; product \"uncharacterized LOC117693020\"; exon_number \"1\"; \n",
      "NC_047559.1\tGnomon\texon\t10884\t11386\t.\t+\t.\tgene_id \"LOC117693020\"; transcript_id \"XR_004604272.1\"; db_xref \"GeneID:117693020\"; gbkey \"ncRNA\"; gene \"LOC117693020\"; model_evidence \"Supporting evidence includes similarity to: 1 EST, and 100% coverage of the annotated genomic feature by RNAseq alignments, including 15 samples with support for all annotated introns\"; product \"uncharacterized LOC117693020\"; exon_number \"2\"; \n",
      "NC_047559.1\tGnomon\tgene\t14114\t15804\t.\t+\t.\tgene_id \"LOC109621113\"; db_xref \"GeneID:109621113\"; gbkey \"Gene\"; gene \"LOC109621113\"; gene_biotype \"protein_coding\"; \n",
      "NC_047559.1\tGnomon\texon\t14114\t14545\t.\t+\t.\tgene_id \"LOC109621113\"; transcript_id \"XM_034463183.1\"; db_xref \"GeneID:109621113\"; gbkey \"mRNA\"; gene \"LOC109621113\"; model_evidence \"Supporting evidence includes similarity to: 78% coverage of the annotated genomic feature by RNAseq alignments, including 21 samples with support for all annotated introns\"; product \"uncharacterized LOC109621113\"; exon_number \"1\"; \n",
      "NC_047559.1\tGnomon\texon\t14812\t14867\t.\t+\t.\tgene_id \"LOC109621113\"; transcript_id \"XM_034463183.1\"; db_xref \"GeneID:109621113\"; gbkey \"mRNA\"; gene \"LOC109621113\"; model_evidence \"Supporting evidence includes similarity to: 78% coverage of the annotated genomic feature by RNAseq alignments, including 21 samples with support for all annotated introns\"; product \"uncharacterized LOC109621113\"; exon_number \"2\"; \n",
      "cat: write error: Broken pipe\n"
     ]
    }
   ],
   "source": [
    "!cat /Users/sr320/Downloads/ROSLIN/ncbi_dataset/data/GCF_902806645.1/genomic.sorted.gtf | head"
   ]
  },
  {
   "cell_type": "code",
   "execution_count": 37,
   "metadata": {},
   "outputs": [
    {
     "name": "stdout",
     "output_type": "stream",
     "text": [
      "   1089 BestRefSeq\tCDS\n",
      "   1141 BestRefSeq\texon\n",
      "     81 BestRefSeq\tgene\n",
      "    136 BestRefSeq\tstart_codon\n",
      "    136 BestRefSeq\tstop_codon\n",
      "     48 BestRefSeq%2CGnomon\tgene\n",
      " 699004 Gnomon\tCDS\n",
      " 795977 Gnomon\texon\n",
      "  37314 Gnomon\tgene\n",
      "  63460 Gnomon\tstart_codon\n",
      "  63408 Gnomon\tstop_codon\n",
      "    202 cmsearch\texon\n",
      "    212 cmsearch\tgene\n",
      "    695 tRNAscan-SE\texon\n",
      "    641 tRNAscan-SE\tgene\n"
     ]
    }
   ],
   "source": [
    "!cat /Users/sr320/Downloads/ROSLIN/ncbi_dataset/data/GCF_902806645.1/genomic.sorted.gtf \\\n",
    "| grep -v '#' \\\n",
    "| cut -f2,3 \\\n",
    "| sort \\\n",
    "| uniq -c "
   ]
  },
  {
   "cell_type": "markdown",
   "metadata": {},
   "source": [
    "# Transcriptome  being used? re Mac"
   ]
  },
  {
   "cell_type": "code",
   "execution_count": 1,
   "metadata": {},
   "outputs": [
    {
     "name": "stdout",
     "output_type": "stream",
     "text": [
      ">NP_001292217.1 uncharacterized LOC105326593 precursor [Crassostrea gigas]\n",
      "MKVVPSLFIFIICVFISSGQRPDPFPKGCKAQIDVVFVIDGSDSISESDFQTLRTSISRIVDGFHIGSGETRMGIIVYSK\n",
      "GVAFSVPLSYDPVYLKDQASIMPHPREGTNTHLGIEEMIDMFKKDKRDGVPMAGVVVTDGISKEKEKTLLQSRLARDLGI\n",
      "NMFSVGVGRYTEEEELRGIASNPDQAIKVESFDELLKILSKLVQLVCPNKCMMPGVIAYPNDVSKNCRLYWKCEGEESKL\n",
      "TCCPRGFSFSAPVQSCIPDPKCVEPCGDEGPICNKRPSVYQPTIYEELIEGYGWVQRSCPPGTAYDRVTCGCTITQTPPP\n",
      "PRRVCRVLVHIPFDIDCVDTSGNGFLIKNHGVKFTRTGLALFEGKAKLVIPNIQRYLGSNFLVKMRYKEFPSFETQGLLS\n",
      "NGDCYTPMTLQLIKDSIRHTYKIENSYRQRTGFTIPTNFKPWNEVTFSHDGNTLAGSVNGIQNEKRSNGPIQRTPYGISI\n",
      "GFVDGYKHFQGYMDYVTIYKCANMNVYNKY\n",
      ">NP_001292218.1 prostaglandin G/H synthase 2-like precursor [Crassostrea gigas]\n",
      "MWWRAVLLVSFIAPALVSGGHNPCCSYPCENNGVCMTQGGNYYCDCANLDFYGKHCEIPTFMKKIKLFLKPSQSTLHNLL\n"
     ]
    }
   ],
   "source": [
    "!head /Users/sr320/Documents/GitHub/nb-2021/C_gigas/data/ncbi_dataset/data/GCF_902806645.1/protein.faa"
   ]
  },
  {
   "cell_type": "code",
   "execution_count": 2,
   "metadata": {},
   "outputs": [
    {
     "name": "stdout",
     "output_type": "stream",
     "text": [
      ">NM_001305288.1 Crassostrea gigas uncharacterized LOC105326593 (LOC105326593), mRNA\n",
      "AATGATTTTAAGTTAACAGGACTGCCACATTGGCTAGGAAAATGAAGGTCGTTCCATCTTTGTTTATTTTCATAATCTGT\n",
      "GTATTCATTTCATCGGGACAACGCCCTGACCCTTTTCCGAAAGGTTGCAAAGCGCAGATTGACGTCGTTTTTGTAATCGA\n",
      "TGGATCAGACAGTATCTCTGAGTCAGATTTCCAAACCCTTCGTACGTCCATTTCCAGAATAGTTGACGGCTTTCATATTG\n",
      "GCTCTGGAGAAACCAGGATGGGCATCATCGTGTACAGTAAAGGTGTTGCCTTCTCTGTCCCGCTCTCATACGATCCGGTG\n",
      "TATCTAAAAGATCAAGCCAGCATCATGCCTCATCCTAGAGAGGGTACCAACACCCACCTTGGTATAGAGGAGATGATAGA\n",
      "TATGTTTAAAAAAGACAAACGAGATGGGGTTCCTATGGCTGGTGTTGTGGTCACTGATGGAATATCTAAAGAAAAGGAAA\n",
      "AAACCCTACTACAGTCAAGATTAGCGAGAGATTTGGGTATTAACATGTTCTCGGTGGGCGTCGGTCGTTACACGGAGGAA\n",
      "GAGGAACTAAGAGGAATCGCTTCGAATCCTGATCAGGCTATCAAAGTGGAGTCCTTTGACGAACTGCTGAAAATTTTATC\n",
      "AAAACTTGTGCAGTTAGTTTGTCCAAACAAATGTATGATGCCTGGTGTCATTGCCTACCCAAACGACGTATCGAAAAACT\n"
     ]
    }
   ],
   "source": [
    "!head /Users/sr320/Documents/GitHub/nb-2021/C_gigas/data/ncbi_dataset/data/GCF_902806645.1/rna.fna"
   ]
  },
  {
   "cell_type": "code",
   "execution_count": 3,
   "metadata": {},
   "outputs": [
    {
     "name": "stdout",
     "output_type": "stream",
     "text": [
      ">NW_022994773.1 Crassostrea gigas unplaced genomic scaffold, cgigas_uk_roslin_v1, whole genome shotgun sequence\n",
      "TAATTAACTTAGCATTCACTCTTTTCAAAATCATTGGACTGGAAGTAAATTAAATAGATCTTGACCAGTTTTTCTAAAAA\n",
      "AAAAAAAATGAACCTTAATATATAAATATCAACTTTAAAATTGCATCACTTCAAAAGTTAGAGAGCACAAACTAAGAATA\n",
      "TCCTGTATAGTTTAAGAGGCATAAATCTATCAAAAATCATTAGACCAAAACCAAATTAATCAACCTGTATTTTTTTGTCA\n",
      "ATCATAAATCTACATACATGTATATATCAACTTTACATGTGCATTCCTTCAAAAGTTGGAGAGCGGGAAAAACGGGAAAT\n",
      "TCTCATTTTTTTTTTTCAAAGTAAAGGAGGCACAATTCTGTTTAAAAATCATCAGAGCAGCCAAATTTGAACTTAACCTG\n",
      "TACCGGTATATTCAAATGACACATCTACCAGTACTCATCAAATTTGAGTTGAATGTGTGCAACAATTTTTTGGATATAAT\n",
      "TGGAAAGTGATGATTTATCATTTTCATCTAATTTCAAGAGGAATAACACTGTCAAATCCATTTGAATGATGACAAAATGA\n",
      "CAGAAGACAGAGGTAACAAAATGACGAAACAAGATAACACTATATGTCCCAGCCATTTTATCTGAGGAAGGTAGGGGGGA\n",
      "GAAAATTTTTTAAATTTCAACCATTAACGATGTGTAATAGAACAGGTGGAATGAGCTTGGCTTCAACCCAGGACCTTTCA\n"
     ]
    }
   ],
   "source": [
    "!head /Users/sr320/Documents/GitHub/nb-2021/C_gigas/data/ncbi_dataset/data/GCF_902806645.1/unplaced.scaf.fna"
   ]
  },
  {
   "cell_type": "markdown",
   "metadata": {},
   "source": [
    "# CG ANNOTATION"
   ]
  },
  {
   "cell_type": "code",
   "execution_count": 6,
   "metadata": {},
   "outputs": [
    {
     "ename": "SyntaxError",
     "evalue": "invalid syntax (<ipython-input-6-8f6358eba293>, line 2)",
     "output_type": "error",
     "traceback": [
      "\u001b[0;36m  File \u001b[0;32m\"<ipython-input-6-8f6358eba293>\"\u001b[0;36m, line \u001b[0;32m2\u001b[0m\n\u001b[0;31m    awk -F [Cc][Gg] '{print NF-1}' \\\u001b[0m\n\u001b[0m                    ^\u001b[0m\n\u001b[0;31mSyntaxError\u001b[0m\u001b[0;31m:\u001b[0m invalid syntax\n"
     ]
    }
   ],
   "source": [
    "!awk -F [Cc][Gg] '{print NF-1}' \\\n",
    "../data/cgigas_uk_roslin_v1_genomic-mito.fa > ../analyses/CG\n",
    "\n"
   ]
  },
  {
   "cell_type": "code",
   "execution_count": null,
   "metadata": {},
   "outputs": [],
   "source": []
  }
 ],
 "metadata": {
  "kernelspec": {
   "display_name": "Python 3",
   "language": "python",
   "name": "python3"
  },
  "language_info": {
   "codemirror_mode": {
    "name": "ipython",
    "version": 3
   },
   "file_extension": ".py",
   "mimetype": "text/x-python",
   "name": "python",
   "nbconvert_exporter": "python",
   "pygments_lexer": "ipython3",
   "version": "3.8.5"
  }
 },
 "nbformat": 4,
 "nbformat_minor": 4
}
