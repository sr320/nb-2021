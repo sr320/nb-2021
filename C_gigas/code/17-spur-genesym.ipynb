{
 "cells": [
  {
   "cell_type": "markdown",
   "metadata": {},
   "source": [
    "# Getting Spur Gene Symbols"
   ]
  },
  {
   "cell_type": "code",
   "execution_count": 1,
   "metadata": {},
   "outputs": [
    {
     "name": "stdout",
     "output_type": "stream",
     "text": [
      "lcl|NW_011934501.1_cds_XP_011426503.1_1\tlcl|NW_022145615.1_cds_XP_030832723.1_37510\t6.81e-07\n",
      "lcl|NW_011934501.1_cds_XP_011434216.1_2\tlcl|NW_022145615.1_cds_XP_030832723.1_37510\t6.81e-07\n",
      "lcl|NW_011934501.1_cds_XP_011445785.1_3\tlcl|NW_022145615.1_cds_XP_030832771.1_37469\t3.55e-12\n",
      "lcl|NW_011934512.1_cds_XP_011426108.1_6\tlcl|NW_022145612.1_cds_XP_030827973.1_31430\t8.79e-30\n",
      "lcl|NW_011934520.1_cds_XP_011429578.1_13\tlcl|NW_022145612.1_cds_XP_030827999.1_32516\t1.15e-29\n",
      "lcl|NW_011934525.1_cds_XP_011434217.1_14\tlcl|NW_022145610.1_cds_XP_030853255.1_26818\t1.74e-23\n",
      "lcl|NW_011934525.1_cds_XP_011436541.1_15\tlcl|NW_022145610.1_cds_XP_030853255.1_26818\t1.73e-23\n",
      "lcl|NW_011934525.1_cds_XP_011432688.1_16\tlcl|NW_022145610.1_cds_XP_030853255.1_26818\t1.79e-23\n",
      "lcl|NW_011934525.1_cds_XP_011433459.1_17\tlcl|NW_022145610.1_cds_XP_030853255.1_26818\t1.77e-23\n",
      "lcl|NW_011934525.1_cds_XP_011434994.1_18\tlcl|NW_022145610.1_cds_XP_030853255.1_26818\t1.74e-23\n"
     ]
    }
   ],
   "source": [
    "!head ../analyses/Cg-SpurCDS_blastn.tab"
   ]
  },
  {
   "cell_type": "code",
   "execution_count": 2,
   "metadata": {},
   "outputs": [
    {
     "name": "stdout",
     "output_type": "stream",
     "text": [
      "../analyses/Caenorhabditis_elegans.WBcel235.gene.sym\n",
      "../analyses/Caenorhabditis_elegans.WBcel235.gene.sym.sorted\n",
      "../analyses/Cg-ProteinsSpur5.0_blastx.tab\n",
      "../analyses/Cg-SpurCDS_blastn.tab\n",
      "../analyses/Cg-WBcel235_blastx.sorted\n",
      "../analyses/Cg-WBcel235_blastx.tab\n",
      "../analyses/Cg-annot-join-V1.1.tab\n",
      "../analyses/Cg-dmel-gene_blastn_02.tab\n",
      "../analyses/Cg-uniprot_blastx_02.tab\n",
      "../analyses/Cg_Ce-genesym.tab\n",
      "../analyses/GCF_000297895_cdslist.tab\n",
      "../analyses/top.annotv1.1.tab\n"
     ]
    }
   ],
   "source": [
    "!ls ../analyses/*"
   ]
  },
  {
   "cell_type": "code",
   "execution_count": 3,
   "metadata": {},
   "outputs": [
    {
     "name": "stdout",
     "output_type": "stream",
     "text": [
      "lcl|NW_011934501.1_cds_XP_011426503.1_1\tXP_030832723.1\t58.621\t145\t60\t0\t1\t435\t1\t145\t8.98e-56\t172\n",
      "lcl|NW_011934501.1_cds_XP_011434216.1_2\tXP_030832723.1\t58.621\t145\t60\t0\t1\t435\t1\t145\t8.98e-56\t172\n",
      "lcl|NW_011934501.1_cds_XP_011445785.1_3\tXP_030832773.1\t50.000\t192\t92\t1\t7\t570\t334\t525\t9.85e-58\t190\n",
      "lcl|NW_011934507.1_cds_XP_011423156.1_5\tXP_030841873.1\t59.006\t161\t66\t0\t1\t483\t46\t206\t1.42e-65\t214\n",
      "lcl|NW_011934512.1_cds_XP_011426108.1_6\tXP_003724618.2\t51.515\t396\t188\t3\t1\t1179\t129\t523\t2.91e-124\t370\n",
      "lcl|NW_011934514.1_cds_XP_011427256.2_7\tXP_030834558.1\t45.833\t120\t62\t2\t1\t360\t57\t173\t1.12e-30\t108\n",
      "lcl|NW_011934516.1_cds_XP_011428421.2_8\tXP_030834151.1\t41.905\t105\t61\t0\t19\t333\t7\t111\t3.08e-21\t88.2\n",
      "lcl|NW_011934516.1_cds_XP_019923453.1_9\tXP_030834151.1\t41.905\t105\t61\t0\t19\t333\t7\t111\t3.08e-21\t88.2\n",
      "lcl|NW_011934516.1_cds_XP_019923670.1_10\tXP_030834151.1\t41.905\t105\t61\t0\t19\t333\t7\t111\t3.08e-21\t88.2\n",
      "lcl|NW_011934520.1_cds_XP_011430737.1_12\tXP_011671541.2\t32.676\t355\t220\t9\t1\t1026\t1258\t1606\t5.33e-49\t177\n"
     ]
    }
   ],
   "source": [
    "!head ../analyses/Cg-ProteinsSpur5.0_blastx.tab"
   ]
  },
  {
   "cell_type": "code",
   "execution_count": 9,
   "metadata": {},
   "outputs": [
    {
     "name": "stdout",
     "output_type": "stream",
     "text": [
      "../data/NcbiProteinEchinobaseGene_Spur.txt:1752410162\tXP_030832723\tECB-GENE-23191870\tLOC578193\n"
     ]
    }
   ],
   "source": [
    "!grep -r \"XP_030832723\" ../data/*"
   ]
  },
  {
   "cell_type": "code",
   "execution_count": null,
   "metadata": {},
   "outputs": [],
   "source": [
    "!head ../data/NcbiProteinEchinobaseGene_Spur.txt\n"
   ]
  },
  {
   "cell_type": "code",
   "execution_count": null,
   "metadata": {},
   "outputs": [],
   "source": []
  }
 ],
 "metadata": {
  "kernelspec": {
   "display_name": "Python 3",
   "language": "python",
   "name": "python3"
  },
  "language_info": {
   "codemirror_mode": {
    "name": "ipython",
    "version": 3
   },
   "file_extension": ".py",
   "mimetype": "text/x-python",
   "name": "python",
   "nbconvert_exporter": "python",
   "pygments_lexer": "ipython3",
   "version": "3.8.5"
  }
 },
 "nbformat": 4,
 "nbformat_minor": 4
}
