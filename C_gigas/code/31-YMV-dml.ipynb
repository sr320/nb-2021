{
 "cells": [
  {
   "cell_type": "code",
   "execution_count": 3,
   "metadata": {},
   "outputs": [
    {
     "name": "stdout",
     "output_type": "stream",
     "text": [
      "XM_011413748.3\t105317186\tNC_047561.1\t18022752\t18022754\tGO:0000460\tmaturation of 5.8S rRNA\tRNA metabolism\tP\n",
      "XM_011413748.3\t105317186\tNC_047561.1\t18022752\t18022754\tGO:0000470\tmaturation of LSU-rRNA\tRNA metabolism\tP\n",
      "XM_011413748.3\t105317186\tNC_047561.1\t18022752\t18022754\tGO:0003723\tRNA binding\tnucleic acid binding activity\tF\n",
      "XM_011413748.3\t105317186\tNC_047561.1\t18022752\t18022754\tGO:0005730\tnucleolus\tnucleus\tC\n",
      "XM_011413748.3\t105317186\tNC_047561.1\t18022752\t18022754\tGO:0030687\t\"preribosome, large subunit precursor\"\tother cellular component\tC\n",
      "XM_011418571.3\t105320585\tNC_047559.1\t50090321\t50090323\tGO:0005576\textracellular region\tnon-structural extracellular\tC\n",
      "XM_011418571.3\t105320585\tNC_047559.1\t50090321\t50090323\tGO:0016020\tmembrane\tother membranes\tC\n",
      "XM_011420945.3\t105322305\tNC_047565.1\t30437934\t30437936\tGO:0005604\tbasement membrane\textracellular matrix\tC\n",
      "XM_011420945.3\t105322305\tNC_047565.1\t30437934\t30437936\tGO:0005605\tbasal lamina\textracellular matrix\tC\n",
      "XM_011420945.3\t105322305\tNC_047565.1\t30437934\t30437936\tGO:0007435\tsalivary gland morphogenesis\tdevelopmental processes\tP\n"
     ]
    }
   ],
   "source": [
    "!head ../data/DML-pH-DSS.GeneIDs.geneOverlap.transcriptIDs.GOAnnot.txt"
   ]
  },
  {
   "cell_type": "code",
   "execution_count": 15,
   "metadata": {},
   "outputs": [],
   "source": [
    "!awk '{print $6}' ../data/DML-pH-DSS.GeneIDs.geneOverlap.transcriptIDs.GOAnnot.txt | sort | uniq -c | awk '{print $2 , $1}' | pbcopy"
   ]
  },
  {
   "cell_type": "code",
   "execution_count": null,
   "metadata": {},
   "outputs": [],
   "source": []
  }
 ],
 "metadata": {
  "kernelspec": {
   "display_name": "Python 3",
   "language": "python",
   "name": "python3"
  },
  "language_info": {
   "codemirror_mode": {
    "name": "ipython",
    "version": 3
   },
   "file_extension": ".py",
   "mimetype": "text/x-python",
   "name": "python",
   "nbconvert_exporter": "python",
   "pygments_lexer": "ipython3",
   "version": "3.8.5"
  }
 },
 "nbformat": 4,
 "nbformat_minor": 4
}
