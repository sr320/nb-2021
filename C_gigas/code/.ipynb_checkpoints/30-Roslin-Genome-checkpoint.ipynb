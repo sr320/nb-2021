{
 "cells": [
  {
   "cell_type": "markdown",
   "metadata": {},
   "source": [
    "# Trying to Figure out Roslin genome"
   ]
  },
  {
   "cell_type": "markdown",
   "metadata": {},
   "source": [
    "## What we are using in March 2021"
   ]
  },
  {
   "cell_type": "code",
   "execution_count": 1,
   "metadata": {},
   "outputs": [
    {
     "name": "stdout",
     "output_type": "stream",
     "text": [
      "  % Total    % Received % Xferd  Average Speed   Time    Time     Time  Current\n",
      "                                 Dload  Upload   Total   Spent    Left  Speed\n",
      "100  625M  100  625M    0     0  2851k      0  0:03:44  0:03:44 --:--:-- 2763k4k9k:05  0:02:41 2972k03:45  0:01:08  0:02:37 3121k1  0:02:26 2471k 3054k0:02:33  0:01:11 2822k3:44  0:02:43  0:01:01 2566k0  0:03:43  0:02:58  0:00:45 2866k  0  0:03:44  0:03:41  0:00:03 2585k\n"
     ]
    }
   ],
   "source": [
    "!curl -O https://gannet.fish.washington.edu/seashell/bu-mox/data/Cgig-genome/roslin_M/cgigas_uk_roslin_v1_genomic-mito.fa"
   ]
  },
  {
   "cell_type": "code",
   "execution_count": 2,
   "metadata": {},
   "outputs": [
    {
     "data": {
      "text/plain": [
       "'/Users/sr320/Documents/GitHub/nb-2021/C_gigas/code'"
      ]
     },
     "execution_count": 2,
     "metadata": {},
     "output_type": "execute_result"
    }
   ],
   "source": [
    "pwd"
   ]
  },
  {
   "cell_type": "code",
   "execution_count": 3,
   "metadata": {},
   "outputs": [
    {
     "name": "stdout",
     "output_type": "stream",
     "text": [
      "MD5 (../data/cgigas_uk_roslin_v1_genomic-mito.fa) = d1d1e708529e459f27322c9131cc846e\n"
     ]
    }
   ],
   "source": [
    "!md5 ../data/cgigas_uk_roslin_v1_genomic-mito.fa"
   ]
  },
  {
   "cell_type": "code",
   "execution_count": 4,
   "metadata": {},
   "outputs": [
    {
     "name": "stdout",
     "output_type": "stream",
     "text": [
      "237\n"
     ]
    }
   ],
   "source": [
    "!grep -c \">\" ../data/cgigas_uk_roslin_v1_genomic-mito.fa"
   ]
  },
  {
   "cell_type": "code",
   "execution_count": 6,
   "metadata": {},
   "outputs": [
    {
     "name": "stdout",
     "output_type": "stream",
     "text": [
      ">NW_022994990.1 Crassostrea gigas unplaced genomic scaffold, cgigas_uk_roslin_v1, whole genome shotgun sequence\n",
      ">NW_022994991.1 Crassostrea gigas unplaced genomic scaffold, cgigas_uk_roslin_v1, whole genome shotgun sequence\n",
      ">NW_022994992.1 Crassostrea gigas unplaced genomic scaffold, cgigas_uk_roslin_v1, whole genome shotgun sequence\n",
      ">NW_022994993.1 Crassostrea gigas unplaced genomic scaffold, cgigas_uk_roslin_v1, whole genome shotgun sequence\n",
      ">NW_022994994.1 Crassostrea gigas unplaced genomic scaffold, cgigas_uk_roslin_v1, whole genome shotgun sequence\n",
      ">NW_022994995.1 Crassostrea gigas unplaced genomic scaffold, cgigas_uk_roslin_v1, whole genome shotgun sequence\n",
      ">NW_022994996.1 Crassostrea gigas unplaced genomic scaffold, cgigas_uk_roslin_v1, whole genome shotgun sequence\n",
      ">NW_022994997.1 Crassostrea gigas unplaced genomic scaffold, cgigas_uk_roslin_v1, whole genome shotgun sequence\n",
      ">NW_022994998.1 Crassostrea gigas unplaced genomic scaffold, cgigas_uk_roslin_v1, whole genome shotgun sequence\n",
      ">NC_001276.1 Crassostrea gigas mitochondrion, complete genome\n"
     ]
    }
   ],
   "source": [
    "!grep \">\" ../data/cgigas_uk_roslin_v1_genomic-mito.fa | tail"
   ]
  },
  {
   "cell_type": "markdown",
   "metadata": {},
   "source": [
    "## Dataset GFF / GTF "
   ]
  },
  {
   "cell_type": "code",
   "execution_count": 17,
   "metadata": {},
   "outputs": [],
   "source": [
    "%%bash\n",
    "gff=\"/Users/sr320/Downloads/ROSLIN/ncbi_dataset/data/GCF_902806645.1/genomic.sorted.gff\""
   ]
  },
  {
   "cell_type": "code",
   "execution_count": 21,
   "metadata": {},
   "outputs": [
    {
     "name": "stdout",
     "output_type": "stream",
     "text": [
      "\n"
     ]
    }
   ],
   "source": [
    "!echo $gff"
   ]
  },
  {
   "cell_type": "code",
   "execution_count": 25,
   "metadata": {},
   "outputs": [
    {
     "name": "stdout",
     "output_type": "stream",
     "text": [
      "NW_022994998.1\tGnomon\texon\t36895\t37001\t.\t+\t.\tID=exon-XM_034462558.1-3;Parent=rna-XM_034462558.1;Dbxref=GeneID:105320399,Genbank:XM_034462558.1;gbkey=mRNA;gene=LOC105320399;product=mitochondrial carrier homolog 2;transcript_id=XM_034462558.1\n",
      "NW_022994998.1\tGnomon\tCDS\t36895\t37001\t.\t+\t2\tID=cds-XP_034318449.1;Parent=rna-XM_034462558.1;Dbxref=GeneID:105320399,Genbank:XP_034318449.1;Name=XP_034318449.1;gbkey=CDS;gene=LOC105320399;product=mitochondrial carrier homolog 2;protein_id=XP_034318449.1\n",
      "NW_022994998.1\tGnomon\texon\t41922\t42002\t.\t+\t.\tID=exon-XM_034462558.1-4;Parent=rna-XM_034462558.1;Dbxref=GeneID:105320399,Genbank:XM_034462558.1;gbkey=mRNA;gene=LOC105320399;product=mitochondrial carrier homolog 2;transcript_id=XM_034462558.1\n",
      "NW_022994998.1\tGnomon\tCDS\t41922\t42002\t.\t+\t0\tID=cds-XP_034318449.1;Parent=rna-XM_034462558.1;Dbxref=GeneID:105320399,Genbank:XP_034318449.1;Name=XP_034318449.1;gbkey=CDS;gene=LOC105320399;product=mitochondrial carrier homolog 2;protein_id=XP_034318449.1\n",
      "NW_022994998.1\tGnomon\texon\t42611\t42668\t.\t+\t.\tID=exon-XM_034462558.1-5;Parent=rna-XM_034462558.1;Dbxref=GeneID:105320399,Genbank:XM_034462558.1;gbkey=mRNA;gene=LOC105320399;product=mitochondrial carrier homolog 2;transcript_id=XM_034462558.1\n",
      "NW_022994998.1\tGnomon\tCDS\t42611\t42668\t.\t+\t0\tID=cds-XP_034318449.1;Parent=rna-XM_034462558.1;Dbxref=GeneID:105320399,Genbank:XP_034318449.1;Name=XP_034318449.1;gbkey=CDS;gene=LOC105320399;product=mitochondrial carrier homolog 2;protein_id=XP_034318449.1\n",
      "NW_022994998.1\tGnomon\texon\t43894\t43945\t.\t+\t.\tID=exon-XM_034462558.1-6;Parent=rna-XM_034462558.1;Dbxref=GeneID:105320399,Genbank:XM_034462558.1;gbkey=mRNA;gene=LOC105320399;product=mitochondrial carrier homolog 2;transcript_id=XM_034462558.1\n",
      "NW_022994998.1\tGnomon\tCDS\t43894\t43945\t.\t+\t2\tID=cds-XP_034318449.1;Parent=rna-XM_034462558.1;Dbxref=GeneID:105320399,Genbank:XP_034318449.1;Name=XP_034318449.1;gbkey=CDS;gene=LOC105320399;product=mitochondrial carrier homolog 2;protein_id=XP_034318449.1\n",
      "NW_022994998.1\tGnomon\texon\t46721\t46780\t.\t+\t.\tID=exon-XM_034462558.1-7;Parent=rna-XM_034462558.1;Dbxref=GeneID:105320399,Genbank:XM_034462558.1;gbkey=mRNA;gene=LOC105320399;product=mitochondrial carrier homolog 2;transcript_id=XM_034462558.1\n",
      "NW_022994998.1\tGnomon\tCDS\t46721\t46780\t.\t+\t1\tID=cds-XP_034318449.1;Parent=rna-XM_034462558.1;Dbxref=GeneID:105320399,Genbank:XP_034318449.1;Name=XP_034318449.1;gbkey=CDS;gene=LOC105320399;product=mitochondrial carrier homolog 2;protein_id=XP_034318449.1\n",
      "NW_022994998.1\tGnomon\texon\t47004\t47097\t.\t+\t.\tID=exon-XM_034462558.1-8;Parent=rna-XM_034462558.1;Dbxref=GeneID:105320399,Genbank:XM_034462558.1;gbkey=mRNA;gene=LOC105320399;product=mitochondrial carrier homolog 2;transcript_id=XM_034462558.1\n",
      "NW_022994998.1\tGnomon\tCDS\t47004\t47097\t.\t+\t1\tID=cds-XP_034318449.1;Parent=rna-XM_034462558.1;Dbxref=GeneID:105320399,Genbank:XP_034318449.1;Name=XP_034318449.1;gbkey=CDS;gene=LOC105320399;product=mitochondrial carrier homolog 2;protein_id=XP_034318449.1\n",
      "NW_022994998.1\tGnomon\texon\t50658\t50690\t.\t+\t.\tID=exon-XM_034462558.1-9;Parent=rna-XM_034462558.1;Dbxref=GeneID:105320399,Genbank:XM_034462558.1;gbkey=mRNA;gene=LOC105320399;product=mitochondrial carrier homolog 2;transcript_id=XM_034462558.1\n",
      "NW_022994998.1\tGnomon\tCDS\t50658\t50690\t.\t+\t0\tID=cds-XP_034318449.1;Parent=rna-XM_034462558.1;Dbxref=GeneID:105320399,Genbank:XP_034318449.1;Name=XP_034318449.1;gbkey=CDS;gene=LOC105320399;product=mitochondrial carrier homolog 2;protein_id=XP_034318449.1\n",
      "NW_022994998.1\tGnomon\texon\t51734\t51801\t.\t+\t.\tID=exon-XM_034462558.1-10;Parent=rna-XM_034462558.1;Dbxref=GeneID:105320399,Genbank:XM_034462558.1;gbkey=mRNA;gene=LOC105320399;product=mitochondrial carrier homolog 2;transcript_id=XM_034462558.1\n",
      "NW_022994998.1\tGnomon\tCDS\t51734\t51801\t.\t+\t0\tID=cds-XP_034318449.1;Parent=rna-XM_034462558.1;Dbxref=GeneID:105320399,Genbank:XP_034318449.1;Name=XP_034318449.1;gbkey=CDS;gene=LOC105320399;product=mitochondrial carrier homolog 2;protein_id=XP_034318449.1\n",
      "NW_022994998.1\tGnomon\texon\t52202\t52277\t.\t+\t.\tID=exon-XM_034462558.1-11;Parent=rna-XM_034462558.1;Dbxref=GeneID:105320399,Genbank:XM_034462558.1;gbkey=mRNA;gene=LOC105320399;product=mitochondrial carrier homolog 2;transcript_id=XM_034462558.1\n",
      "NW_022994998.1\tGnomon\tCDS\t52202\t52277\t.\t+\t1\tID=cds-XP_034318449.1;Parent=rna-XM_034462558.1;Dbxref=GeneID:105320399,Genbank:XP_034318449.1;Name=XP_034318449.1;gbkey=CDS;gene=LOC105320399;product=mitochondrial carrier homolog 2;protein_id=XP_034318449.1\n",
      "NW_022994998.1\tGnomon\texon\t52665\t54061\t.\t+\t.\tID=exon-XM_034462558.1-12;Parent=rna-XM_034462558.1;Dbxref=GeneID:105320399,Genbank:XM_034462558.1;gbkey=mRNA;gene=LOC105320399;product=mitochondrial carrier homolog 2;transcript_id=XM_034462558.1\n",
      "NW_022994998.1\tGnomon\tCDS\t52665\t52778\t.\t+\t0\tID=cds-XP_034318449.1;Parent=rna-XM_034462558.1;Dbxref=GeneID:105320399,Genbank:XP_034318449.1;Name=XP_034318449.1;gbkey=CDS;gene=LOC105320399;product=mitochondrial carrier homolog 2;protein_id=XP_034318449.1\n"
     ]
    }
   ],
   "source": [
    "!tail -20 /Users/sr320/Downloads/ROSLIN/ncbi_dataset/data/GCF_902806645.1/genomic.sorted.gff"
   ]
  },
  {
   "cell_type": "code",
   "execution_count": 10,
   "metadata": {},
   "outputs": [
    {
     "name": "stdout",
     "output_type": "stream",
     "text": [
      "1620054 /Users/sr320/Downloads/ROSLIN/ncbi_dataset/data/GCF_902806645.1/genomic.sorted.gff\n"
     ]
    }
   ],
   "source": [
    "!wc -l /Users/sr320/Downloads/ROSLIN/ncbi_dataset/data/GCF_902806645.1/genomic.sorted.gff"
   ]
  },
  {
   "cell_type": "code",
   "execution_count": 23,
   "metadata": {},
   "outputs": [
    {
     "name": "stdout",
     "output_type": "stream",
     "text": [
      "##gff-version 3\n",
      "#!gff-spec-version 1.21\n",
      "#!processor NCBI annotwriter\n",
      "#!genome-build cgigas_uk_roslin_v1\n",
      "#!genome-build-accession NCBI_Assembly:GCF_902806645.1\n",
      "#!annotation-source NCBI Crassostrea gigas Annotation Release 102\n",
      "##sequence-region NC_047559.1 1 55785328\n",
      "##species https://www.ncbi.nlm.nih.gov/Taxonomy/Browser/wwwtax.cgi?id=29159\n",
      "RefSeq\n",
      "Gnomon\n",
      "Gnomon\n",
      "Gnomon\n",
      "Gnomon\n",
      "Gnomon\n",
      "Gnomon\n",
      "Gnomon\n",
      "Gnomon\n",
      "Gnomon\n",
      "Gnomon\n",
      "Gnomon\n",
      "Gnomon\n",
      "Gnomon\n",
      "Gnomon\n",
      "Gnomon\n",
      "Gnomon\n",
      "Gnomon\n",
      "Gnomon\n",
      "Gnomon\n",
      "Gnomon\n",
      "Gnomon\n",
      "cut: write error: Broken pipe\n"
     ]
    }
   ],
   "source": [
    "!cat /Users/sr320/Downloads/ROSLIN/ncbi_dataset/data/GCF_902806645.1/genomic.sorted.gff | cut -f2 | head -30"
   ]
  },
  {
   "cell_type": "code",
   "execution_count": null,
   "metadata": {},
   "outputs": [],
   "source": []
  }
 ],
 "metadata": {
  "kernelspec": {
   "display_name": "Python 3",
   "language": "python",
   "name": "python3"
  },
  "language_info": {
   "codemirror_mode": {
    "name": "ipython",
    "version": 3
   },
   "file_extension": ".py",
   "mimetype": "text/x-python",
   "name": "python",
   "nbconvert_exporter": "python",
   "pygments_lexer": "ipython3",
   "version": "3.8.5"
  }
 },
 "nbformat": 4,
 "nbformat_minor": 4
}
