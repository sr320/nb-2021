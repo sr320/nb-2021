{
 "cells": [
  {
   "cell_type": "raw",
   "metadata": {},
   "source": [
    "[sr320@mox1 020321-Cg-annot]$ cat job.sh \n",
    "#!/bin/bash\n",
    "## Job Name\n",
    "#SBATCH --job-name=blastp\n",
    "## Allocation Definition\n",
    "#SBATCH --account=coenv\n",
    "#SBATCH --partition=coenv\n",
    "## Resources\n",
    "## Nodes\n",
    "#SBATCH --nodes=1\n",
    "## Walltime (days-hours:minutes:seconds format)\n",
    "#SBATCH --time=1-00:00:00\n",
    "## Memory per node\n",
    "#SBATCH --mem=120G\n",
    "##turn on e-mail notification\n",
    "#SBATCH --mail-type=ALL\n",
    "#SBATCH --mail-user=sr320@uw.edu\n",
    "## Specify the working directory for this job\n",
    "#SBATCH --chdir=/gscratch/scrubbed/sr320/020321-Cg-annot\n",
    "\n",
    "\n",
    "# Load Python Mox module for Python module availability\n",
    "\n",
    "module load intel-python3_2017\n",
    "\n",
    "\n",
    "\n",
    "\n",
    "source /gscratch/srlab/programs/scripts/paths.sh\n",
    "\n",
    "\n",
    "/gscratch/srlab/programs/ncbi-blast-2.8.1+/bin/makeblastdb \\\n",
    "-in /gscratch/srlab/sr320/blastdb/Caenorhabditis_elegans.WBcel235.pep.all.fa \\\n",
    "-dbtype prot \\\n",
    "-out /gscratch/srlab/sr320/blastdb/Caenorhabditis_elegans.WBcel235.prot\n",
    "\n",
    "\n",
    "\n",
    "/gscratch/srlab/programs/ncbi-blast-2.8.1+/bin/blastx \\\n",
    "-query /gscratch/srlab/sr320/data/cg/GCF_000297895.1_oyster_v9_cds_from_genomic.fna \\\n",
    "-db /gscratch/srlab/sr320/blastdb/Caenorhabditis_elegans.WBcel235.prot  \\\n",
    "-out /gscratch/scrubbed/sr320/020321-Cg-annot/Cg-WBcel235_blastx.tab \\\n",
    "-evalue 1E-05 \\\n",
    "-num_threads 28 \\\n",
    "-max_target_seqs 1 \\\n",
    "-max_hsps 1 \\\n",
    "-outfmt \"6 qaccver saccver evalue\""
   ]
  },
  {
   "cell_type": "code",
   "execution_count": 1,
   "metadata": {},
   "outputs": [
    {
     "name": "stdout",
     "output_type": "stream",
     "text": [
      "  % Total    % Received % Xferd  Average Speed   Time    Time     Time  Current\n",
      "                                 Dload  Upload   Total   Spent    Left  Speed\n",
      "100 1613k  100 1613k    0     0  1994k      0 --:--:-- --:--:-- --:--:-- 1991k\n"
     ]
    }
   ],
   "source": [
    "!curl https://gannet.fish.washington.edu/seashell/bu-mox/scrubbed/020321-Cg-annot/Cg-WBcel235_blastx.tab \\\n",
    "    > ../analyses/Cg-WBcel235_blastx.tab"
   ]
  },
  {
   "cell_type": "code",
   "execution_count": 2,
   "metadata": {},
   "outputs": [
    {
     "name": "stdout",
     "output_type": "stream",
     "text": [
      "lcl|NW_011934501.1_cds_XP_011426503.1_1\tT27A3.6.1\t1.35e-28\n",
      "lcl|NW_011934501.1_cds_XP_011434216.1_2\tT27A3.6.1\t1.35e-28\n",
      "lcl|NW_011934501.1_cds_XP_011445785.1_3\tC48E7.2.2\t1.83e-22\n",
      "lcl|NW_011934512.1_cds_XP_011426108.1_6\tY41D4A.6a.1\t3.05e-31\n",
      "lcl|NW_011934516.1_cds_XP_011428421.2_8\tR11F4.1.2\t1.55e-25\n",
      "lcl|NW_011934516.1_cds_XP_019923453.1_9\tR11F4.1.2\t1.55e-25\n",
      "lcl|NW_011934516.1_cds_XP_019923670.1_10\tR11F4.1.2\t1.55e-25\n",
      "lcl|NW_011934516.1_cds_XP_019923891.1_11\tR11F4.1.2\t6.11e-17\n",
      "lcl|NW_011934520.1_cds_XP_011429578.1_13\tF36H1.2h.1\t9.81e-27\n",
      "lcl|NW_011934527.1_cds_XP_011437695.1_20\tY49F6B.4.1\t1.24e-33\n"
     ]
    }
   ],
   "source": [
    "!head ../analyses/Cg-WBcel235_blastx.tab"
   ]
  },
  {
   "cell_type": "code",
   "execution_count": null,
   "metadata": {},
   "outputs": [],
   "source": []
  }
 ],
 "metadata": {
  "kernelspec": {
   "display_name": "Python 3",
   "language": "python",
   "name": "python3"
  },
  "language_info": {
   "codemirror_mode": {
    "name": "ipython",
    "version": 3
   },
   "file_extension": ".py",
   "mimetype": "text/x-python",
   "name": "python",
   "nbconvert_exporter": "python",
   "pygments_lexer": "ipython3",
   "version": "3.8.3"
  }
 },
 "nbformat": 4,
 "nbformat_minor": 4
}
