{
 "cells": [
  {
   "cell_type": "markdown",
   "metadata": {},
   "source": [
    "# Deep annotation of oyster genes"
   ]
  },
  {
   "cell_type": "markdown",
   "metadata": {},
   "source": [
    "see also https://github.com/RobertsLab/resources/issues/969"
   ]
  },
  {
   "cell_type": "markdown",
   "metadata": {},
   "source": [
    "What has been  done"
   ]
  },
  {
   "cell_type": "code",
   "execution_count": 3,
   "metadata": {},
   "outputs": [
    {
     "name": "stdout",
     "output_type": "stream",
     "text": [
      "LOC_seqID_key.tab bestblast.tab\n"
     ]
    }
   ],
   "source": [
    "!ls ../data/bestblast_/"
   ]
  },
  {
   "cell_type": "code",
   "execution_count": 4,
   "metadata": {},
   "outputs": [
    {
     "name": "stdout",
     "output_type": "stream",
     "text": [
      "lcl|NW_011934501.1_cds_XP_011426503.1_1\tLOC105317034\n",
      "lcl|NW_011934501.1_cds_XP_011434216.1_2\tLOC105317034\n",
      "lcl|NW_011934501.1_cds_XP_011445785.1_3\tLOC105338483\n",
      "lcl|NW_011934505.1_cds_XP_019917900.1_4\tLOC105346508\n",
      "lcl|NW_011934507.1_cds_XP_011423156.1_5\tLOC105322465\n",
      "lcl|NW_011934512.1_cds_XP_011426108.1_6\tLOC105327114\n",
      "lcl|NW_011934514.1_cds_XP_011427256.2_7\tLOC105327903\n",
      "lcl|NW_011934516.1_cds_XP_011428421.2_8\tLOC105328737\n",
      "lcl|NW_011934516.1_cds_XP_019923453.1_9\tLOC105328737\n",
      "lcl|NW_011934516.1_cds_XP_019923670.1_10\tLOC105328737\n"
     ]
    }
   ],
   "source": [
    "!head ../data/bestblast_/LOC_seqID_key.tab"
   ]
  },
  {
   "cell_type": "code",
   "execution_count": 5,
   "metadata": {},
   "outputs": [
    {
     "name": "stdout",
     "output_type": "stream",
     "text": [
      "ID\tBlastType\tSeqLength\tHitAcc\tHitDesc\tScore\tE-Value\tPercentIdent\tQueryStart\tQueryEnd\tHitStart\tHitEnd\n",
      "lcl|NC_001276.1_cds_NP_037544.2_46742\tBLASTX1\t876\tNP_037544.2\tcytochrome c oxidase subunit III [Crassostrea gigas]\u0001ACD35413.1 cytochrome c oxidase subunit 3 [Crassostrea gigas]\u0001AIM52189.1 cytochrome c oxidase subunit 3 [Crassostrea gigas]\u0001AIM52202.1 cytochrome c oxidase subunit 3 [Crassostrea gigas]\u0001AIM52215.1 cytochrome c oxidase subunit 3 [Crassostrea gigas]\u0001AIM52228.1 cytochrome c oxidase subunit 3 [Crassostrea gigas]\t1227\t5e-168\t267/291 (91%)\t1\t873\t1\t291\n",
      "lcl|NC_001276.1_cds_NP_037545.1_46743\tBLASTX1\t1119\tNP_037545.1\tcytochrome b [Crassostrea gigas]\u0001AAF20043.1 cytochrome b [Crassostrea gigas]\t1637\t0.0\t345/372 (92%)\t1\t1116\t1\t372\n",
      "lcl|NC_001276.1_cds_NP_037546.1_46744\tBLASTX1\t702\tNP_037546.1\tcytochrome c oxidase subunit II [Crassostrea gigas]\u0001YP_002860213.1 cytochrome c oxidase subunit II [Crassostrea angulata]\u0001YP_002860225.1 cytochrome c oxidase subunit II [Crassostrea sikamea]\u0001AAF20044.1 cytochrome oxidase subunit 2 [Crassostrea gigas]\u0001ACD35415.1 cytochrome c oxidase subunit 2 [Crassostrea gigas]\u0001ACD35427.1 cytochrome c oxidase subunit 2 [Crassostrea angulata]\u0001ACD35439.1 cytochrome c oxidase subunit 2 [Crassostrea sikamea]\u0001ACO40194.1 cytochrome c oxidase subunit 2 [Crassostrea angulata]\t1004\t4e-136\t214/233 (91%)\t1\t699\t1\t233\n",
      "lcl|NC_001276.1_cds_NP_037547.1_46745\tBLASTX1\t693\tNP_037547.1\tATP synthase F0 subunit 6 [Crassostrea gigas]\u0001AAF20045.1 ATPase subunit 6 [Crassostrea gigas]\t1072\t2e-146\t209/230 (90%)\t1\t690\t1\t230\n",
      "lcl|NC_001276.1_cds_NP_037548.1_46746\tBLASTX1\t999\tNP_037548.1\tNADH dehydrogenase subunit 2 [Crassostrea gigas]\u0001AAF20046.1 NADH dehydrogenase 2 [Crassostrea gigas]\t1563\t0.0\t302/332 (90%)\t1\t996\t1\t332\n",
      "lcl|NC_001276.1_cds_NP_037549.2_46747\tBLASTX1\t1353\tAAF20047.1\tNADH dehydrogenase 4 [Crassostrea gigas]\t1982\t0.0\t412/450 (91%)\t1\t1350\t2\t451\n",
      "lcl|NC_001276.1_cds_NP_037550.2_46748\tBLASTX1\t1671\tNP_037550.2\tNADH dehydrogenase subunit 5 [Crassostrea gigas]\t2436\t0.0\t517/556 (92%)\t1\t1668\t1\t556\n",
      "lcl|NC_001276.1_cds_NP_037551.1_46749\tBLASTX1\t477\tNP_037551.1\tNADH dehydrogenase subunit 6 [Crassostrea gigas]\u0001AAF20049.1 NADH dehydrogenase 6 [Crassostrea gigas]\u0001ACD35420.1 NADH dehydrogenase subunit 6 [Crassostrea gigas]\u0001AIM52197.1 NADH dehydrogenase subunit 6 [Crassostrea gigas]\u0001AIM52210.1 NADH dehydrogenase subunit 6 [Crassostrea gigas]\u0001AIM52223.1 NADH dehydrogenase subunit 6 [Crassostrea gigas]\t681\t4e-89\t146/158 (92%)\t1\t474\t1\t158\n",
      "lcl|NC_001276.1_cds_NP_037552.1_46750\tBLASTX1\t351\tBAM44026.1\tNADH dehydrogenase subunit 3 [Crassostrea gigas]\t435\t4e-53\t106/116 (91%)\t1\t348\t1\t116\n"
     ]
    }
   ],
   "source": [
    "!head ../data/bestblast_/bestblast.tab"
   ]
  },
  {
   "cell_type": "markdown",
   "metadata": {},
   "source": [
    "## The fasta"
   ]
  },
  {
   "cell_type": "code",
   "execution_count": 7,
   "metadata": {},
   "outputs": [
    {
     "name": "stdout",
     "output_type": "stream",
     "text": [
      ">lcl|NW_011934501.1_cds_XP_011426503.1_1 [gene=LOC105317034] [db_xref=GeneID:105317034] [protein=molybdopterin synthase catalytic subunit] [protein_id=XP_011426503.1] [location=join(349..445,943..1093,1481..1604,1973..2038)] [gbkey=CDS]\n",
      "ATGGACTATATAGAAATCACAGATGAAATTCTTGATGTCAATAAAATATCACATATGGTAACAGACCCAAGTTGTGGAGC\n",
      "TATATCAATATTTGTTGGAATAACCAGAGACAATTTTGACGGTAAAAAGGTTTTGAGACTTGAATATGAAGCATATAAAC\n",
      "CTATGGCAAAAAAGAAGATGAAAGAAATATGTGATTCCATTCGTAAACAATGGGAGATACATAATATAGCCATGATTCAC\n",
      "AGAATTAATGTAGTCCCCATCTCTGAGGCCAGCATTGTTATTGCCATTTCTTCCCCTCATAGAAAGGAGTCACTACAGGC\n",
      "TGTGGAATATGCAATCGACACTCTAAAAGCCACAGTGCCCATCTGGAAAAAGGAAATTTATGCAGATGAGTCATCCAGCT\n",
      "GGAAGGAAAACAAAGAGTGTTCATGGAGTAAAAAGTGA\n",
      ">lcl|NW_011934501.1_cds_XP_011434216.1_2 [gene=LOC105317034] [db_xref=GeneID:105317034] [protein=molybdopterin synthase catalytic subunit] [protein_id=XP_011434216.1] [location=join(349..445,943..1093,1481..1604,1973..2038)] [gbkey=CDS]\n",
      "ATGGACTATATAGAAATCACAGATGAAATTCTTGATGTCAATAAAATATCACATATGGTAACAGACCCAAGTTGTGGAGC\n",
      "TATATCAATATTTGTTGGAATAACCAGAGACAATTTTGACGGTAAAAAGGTTTTGAGACTTGAATATGAAGCATATAAAC\n"
     ]
    }
   ],
   "source": [
    "!head ../data/GCF_000297895.1_oyster_v9_cds_from_genomic.fna"
   ]
  },
  {
   "cell_type": "code",
   "execution_count": 1,
   "metadata": {},
   "outputs": [],
   "source": [
    "#setting blast program directory\n",
    "bldir = \"/Applications/bioinfo/ncbi-blast-2.11.0+/bin/\"\n"
   ]
  },
  {
   "cell_type": "code",
   "execution_count": null,
   "metadata": {},
   "outputs": [
    {
     "name": "stdout",
     "output_type": "stream",
     "text": [
      "Warning: [blastx] Examining 5 or more matches is recommended\n"
     ]
    }
   ],
   "source": [
    "!{bldir}blastx \\\n",
    "-query ../data/GCF_000297895.1_oyster_v9_cds_from_genomic.fna \\\n",
    "-db ../blastdb/uniprot_sprot_2020_06  \\\n",
    "-out ../analyses/Cg-uniprot_blastx.tab \\\n",
    "-evalue 1E-20 \\\n",
    "-num_threads 3 \\\n",
    "-max_target_seqs 1 \\\n",
    "-outfmt 6"
   ]
  },
  {
   "cell_type": "code",
   "execution_count": null,
   "metadata": {},
   "outputs": [
    {
     "name": "stdout",
     "output_type": "stream",
     "text": [
      "Warning: [blastx] Examining 5 or more matches is recommended\n"
     ]
    }
   ],
   "source": [
    "!{bldir}blastx \\\n",
    "-query ../data/GCF_000297895.1_oyster_v9_cds_from_genomic.fna \\\n",
    "-db ../blastdb/uniprot_sprot_2020_06  \\\n",
    "-out ../analyses/Cg-uniprot_blastx_02.tab \\\n",
    "-evalue 1E-20 \\\n",
    "-num_threads 2 \\\n",
    "-max_target_seqs 1 \\\n",
    "-max_hsps 1 \\\n",
    "-outfmt 6"
   ]
  },
  {
   "cell_type": "markdown",
   "metadata": {},
   "source": [
    "# Finding more databases"
   ]
  },
  {
   "cell_type": "markdown",
   "metadata": {},
   "source": [
    "C elegans, Drosophila, Sea urchin"
   ]
  },
  {
   "cell_type": "markdown",
   "metadata": {},
   "source": [
    "![echino](http://gannet.fish.washington.edu/seashell/snaps/Echinobase_Home_2021-01-27_15-23-59.png)"
   ]
  },
  {
   "cell_type": "code",
   "execution_count": null,
   "metadata": {},
   "outputs": [],
   "source": [
    "ProteinsSpur5.0"
   ]
  },
  {
   "cell_type": "code",
   "execution_count": 2,
   "metadata": {},
   "outputs": [
    {
     "name": "stdout",
     "output_type": "stream",
     "text": [
      "Warning: [blastx] Examining 5 or more matches is recommended\n"
     ]
    }
   ],
   "source": [
    "!{bldir}blastx \\\n",
    "-query ../data/GCF_000297895.1_oyster_v9_cds_from_genomic.fna \\\n",
    "-db ../blastdb/ProteinsSpur5.0/ProteinsSpur5.0  \\\n",
    "-out ../analyses/Cg-ProteinsSpur5.0_blastx.tab \\\n",
    "-evalue 1E-20 \\\n",
    "-num_threads 2 \\\n",
    "-max_target_seqs 1 \\\n",
    "-outfmt 6"
   ]
  },
  {
   "cell_type": "markdown",
   "metadata": {},
   "source": [
    "# Spur 5 annotations?"
   ]
  },
  {
   "cell_type": "markdown",
   "metadata": {},
   "source": [
    "Can get this\n",
    "![pic](http://gannet.fish.washington.edu/seashell/snaps/httpftp.echinobase.orgpubGenePageReportsGenePageGeneralInfo_AllGenes.txt_2021-02-02_14-42-23.png)"
   ]
  },
  {
   "cell_type": "markdown",
   "metadata": {},
   "source": [
    "!head ../analyses/Cg-ProteinsSpur5.0_blastx.tab"
   ]
  },
  {
   "cell_type": "code",
   "execution_count": null,
   "metadata": {},
   "outputs": [],
   "source": []
  }
 ],
 "metadata": {
  "kernelspec": {
   "display_name": "Python 3",
   "language": "python",
   "name": "python3"
  },
  "language_info": {
   "codemirror_mode": {
    "name": "ipython",
    "version": 3
   },
   "file_extension": ".py",
   "mimetype": "text/x-python",
   "name": "python",
   "nbconvert_exporter": "python",
   "pygments_lexer": "ipython3",
   "version": "3.8.3"
  }
 },
 "nbformat": 4,
 "nbformat_minor": 4
}
