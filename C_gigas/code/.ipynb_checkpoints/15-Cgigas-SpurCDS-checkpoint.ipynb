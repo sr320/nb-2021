{
 "cells": [
  {
   "cell_type": "code",
   "execution_count": 2,
   "metadata": {},
   "outputs": [
    {
     "name": "stdout",
     "output_type": "stream",
     "text": [
      "Warning: [blastn] Examining 5 or more matches is recommended\n"
     ]
    }
   ],
   "source": [
    "#setting blast program directory\n",
    "bldir = \"/Applications/bioinfo/ncbi-blast-2.11.0+/bin/\"\n",
    "\n",
    "!{bldir}blastn \\\n",
    "-task blastn \\\n",
    "-query ../data/GCF_000297895.1_oyster_v9_cds_from_genomic.fna \\\n",
    "-db ../blastdb/Spur_5_0_CDS/Spur_5_0_CDS  \\\n",
    "-out ../analyses/Cg-SpurCDS_blastn.tab \\\n",
    "-evalue 1E-05 \\\n",
    "-num_threads 1 \\\n",
    "-max_target_seqs 1 \\\n",
    "-max_hsps 1 \\\n",
    "-outfmt \"6 qaccver saccver evalue\""
   ]
  },
  {
   "cell_type": "code",
   "execution_count": 1,
   "metadata": {},
   "outputs": [
    {
     "name": "stdout",
     "output_type": "stream",
     "text": [
      "lcl|NW_011934501.1_cds_XP_011426503.1_1\tlcl|NW_022145615.1_cds_XP_030832723.1_37510\t6.81e-07\n",
      "lcl|NW_011934501.1_cds_XP_011434216.1_2\tlcl|NW_022145615.1_cds_XP_030832723.1_37510\t6.81e-07\n",
      "lcl|NW_011934501.1_cds_XP_011445785.1_3\tlcl|NW_022145615.1_cds_XP_030832771.1_37469\t3.55e-12\n",
      "lcl|NW_011934512.1_cds_XP_011426108.1_6\tlcl|NW_022145612.1_cds_XP_030827973.1_31430\t8.79e-30\n",
      "lcl|NW_011934520.1_cds_XP_011429578.1_13\tlcl|NW_022145612.1_cds_XP_030827999.1_32516\t1.15e-29\n",
      "lcl|NW_011934525.1_cds_XP_011434217.1_14\tlcl|NW_022145610.1_cds_XP_030853255.1_26818\t1.74e-23\n",
      "lcl|NW_011934525.1_cds_XP_011436541.1_15\tlcl|NW_022145610.1_cds_XP_030853255.1_26818\t1.73e-23\n",
      "lcl|NW_011934525.1_cds_XP_011432688.1_16\tlcl|NW_022145610.1_cds_XP_030853255.1_26818\t1.79e-23\n",
      "lcl|NW_011934525.1_cds_XP_011433459.1_17\tlcl|NW_022145610.1_cds_XP_030853255.1_26818\t1.77e-23\n",
      "lcl|NW_011934525.1_cds_XP_011434994.1_18\tlcl|NW_022145610.1_cds_XP_030853255.1_26818\t1.74e-23\n"
     ]
    }
   ],
   "source": [
    "!head ../analyses/Cg-SpurCDS_blastn.tab"
   ]
  },
  {
   "cell_type": "code",
   "execution_count": null,
   "metadata": {},
   "outputs": [],
   "source": []
  }
 ],
 "metadata": {
  "kernelspec": {
   "display_name": "Python 3",
   "language": "python",
   "name": "python3"
  },
  "language_info": {
   "codemirror_mode": {
    "name": "ipython",
    "version": 3
   },
   "file_extension": ".py",
   "mimetype": "text/x-python",
   "name": "python",
   "nbconvert_exporter": "python",
   "pygments_lexer": "ipython3",
   "version": "3.8.3"
  }
 },
 "nbformat": 4,
 "nbformat_minor": 4
}
