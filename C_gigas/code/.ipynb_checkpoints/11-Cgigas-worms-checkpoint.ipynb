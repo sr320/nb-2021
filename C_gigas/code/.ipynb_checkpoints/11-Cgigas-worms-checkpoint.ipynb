{
 "cells": [
  {
   "cell_type": "markdown",
   "metadata": {},
   "source": [
    "![worm](http://gannet.fish.washington.edu/seashell/snaps/WormBase__Nematode_Information_Resource_2021-01-27_15-32-40.png)"
   ]
  },
  {
   "cell_type": "code",
   "execution_count": 2,
   "metadata": {},
   "outputs": [
    {
     "name": "stdout",
     "output_type": "stream",
     "text": [
      "../blastdb/c_elegans.PRJEB28388.WS279.protein.fa\n",
      "../blastdb/c_elegans.PRJNA13758.WS279.protein.fa\n"
     ]
    }
   ],
   "source": [
    "!ls ../blastdb/c*fa"
   ]
  },
  {
   "cell_type": "code",
   "execution_count": 4,
   "metadata": {},
   "outputs": [
    {
     "name": "stdout",
     "output_type": "stream",
     "text": [
      "==> ../blastdb/c_elegans.PRJEB28388.WS279.protein.fa <==\n",
      "MSSRPPSGNHKPSKPTGHPSSGASELDSTAEPSPHERRMDSQRASSGSDIHGHPSSGSQS\n",
      "RNLTSAQSGGRNAHKDLHERHVHPSQGYQRHGSKAPAHGHPSSQGARRSQHELSNFPILL\n",
      "ANLMQDTKATASASCASNQDTLQPTASTMSDGEPEEDKVKLCGNRLEVGVTDNLAGTQRR\n",
      "KEQQQLQGAQAKKQQAPQRDVNRKANHQKLSRKRRYAPYKDDVTGAIICGDHLHPYLLLN\n",
      "CNHLLLLLFGHP\n",
      ">chrX_pilon.g21070 transcript=chrX_pilon.g21070 gene=chrX_pilon.g21070\n",
      "MIKVIFHLVSAVLYAAVCYRDTTIVTGALLPIPYQTWSRFVWLTIIDLYMQLLYHTIGFI\n",
      "LAVVSPNKRHIIFDYWARALTGPIGVAVTVLFWGLFLFDPATLARDEMAMKILTLFWFNH\n",
      "GLHTLPAITAHLDLAIYNHTSFSTSAILKGIAVFVTLYLIDLHYVFYTSGFWAYPILGEL\n",
      "AAPFRLVFIAACMFIVYLGYVWLSFLGALVHGVEKPKNKKRN\n",
      "\n",
      "==> ../blastdb/c_elegans.PRJNA13758.WS279.protein.fa <==\n",
      ">cTel55X.1a wormpep=CE19652 gene=WBGene00007068 status=Confirmed uniprot=A4F305 insdc=CCD61146.1\n",
      "MIKVIFHLVSAVLYAAVCYRDTTIVTGALLPIPYQTWSRFVWLTIIDLYMQLLYHTIGFI\n",
      "LAVVSPNKRHIIFDYWARALTGPIGVAVTVLFWGLFLFDPATLARDEMAMKILTLFWFNH\n",
      "GLHTLPAITAHLDLAIYNHTSFSTSAILKGIAVFVTLYLIDLHYVFYTSGFWAYPILGEL\n",
      "AAPFRLVFIAACMFIVYLGYVWLSFLGALVHGVEKPKNKKRN\n",
      ">cTel55X.1b wormpep=CE26787 gene=WBGene00007068 status=Confirmed uniprot=H2KY55 insdc=CCD61147.1\n",
      "MIKVIFHLVSAVLYAAVCYRDTTIVTGALLPIPYQTWSRFVWLTIIDLYMQLLYHTIGFI\n",
      "LAVVSPNKRHIIFDYWARALTGPIGVAVTVLFWGLFLFDPATLARDEMAMKILTLFWFNH\n",
      "GLHTLPAITAHLDLAIYNHTSFSTSAILKGIAVFVTLYLIDFQPPLRLLHFWLLGVPDSR\n",
      "RTCRTIPPCVHCCLHVHCLPRLRVAIFPRCPRARSRETKEQKKKLKYLFCCGF\n"
     ]
    }
   ],
   "source": [
    "!tail ../blastdb/c*fa"
   ]
  },
  {
   "cell_type": "code",
   "execution_count": 1,
   "metadata": {},
   "outputs": [
    {
     "name": "stdout",
     "output_type": "stream",
     "text": [
      "==> ../blastdb/c_elegans.PRJEB28388.WS279.protein.fa <==\n",
      "MSSRPPSGNHKPSKPTGHPSSGASELDSTAEPSPHERRMDSQRASSGSDIHGHPSSGSQS\n",
      "RNLTSAQSGGRNAHKDLHERHVHPSQGYQRHGSKAPAHGHPSSQGARRSQHELSNFPILL\n",
      "ANLMQDTKATASASCASNQDTLQPTASTMSDGEPEEDKVKLCGNRLEVGVTDNLAGTQRR\n",
      "KEQQQLQGAQAKKQQAPQRDVNRKANHQKLSRKRRYAPYKDDVTGAIICGDHLHPYLLLN\n",
      "CNHLLLLLFGHP\n",
      ">chrX_pilon.g21070 transcript=chrX_pilon.g21070 gene=chrX_pilon.g21070\n",
      "MIKVIFHLVSAVLYAAVCYRDTTIVTGALLPIPYQTWSRFVWLTIIDLYMQLLYHTIGFI\n",
      "LAVVSPNKRHIIFDYWARALTGPIGVAVTVLFWGLFLFDPATLARDEMAMKILTLFWFNH\n",
      "GLHTLPAITAHLDLAIYNHTSFSTSAILKGIAVFVTLYLIDLHYVFYTSGFWAYPILGEL\n",
      "AAPFRLVFIAACMFIVYLGYVWLSFLGALVHGVEKPKNKKRN\n",
      "\n",
      "==> ../blastdb/c_elegans.PRJNA13758.WS279.protein.fa <==\n",
      ">cTel55X.1a wormpep=CE19652 gene=WBGene00007068 status=Confirmed uniprot=A4F305 insdc=CCD61146.1\n",
      "MIKVIFHLVSAVLYAAVCYRDTTIVTGALLPIPYQTWSRFVWLTIIDLYMQLLYHTIGFI\n",
      "LAVVSPNKRHIIFDYWARALTGPIGVAVTVLFWGLFLFDPATLARDEMAMKILTLFWFNH\n",
      "GLHTLPAITAHLDLAIYNHTSFSTSAILKGIAVFVTLYLIDLHYVFYTSGFWAYPILGEL\n",
      "AAPFRLVFIAACMFIVYLGYVWLSFLGALVHGVEKPKNKKRN\n",
      ">cTel55X.1b wormpep=CE26787 gene=WBGene00007068 status=Confirmed uniprot=H2KY55 insdc=CCD61147.1\n",
      "MIKVIFHLVSAVLYAAVCYRDTTIVTGALLPIPYQTWSRFVWLTIIDLYMQLLYHTIGFI\n",
      "LAVVSPNKRHIIFDYWARALTGPIGVAVTVLFWGLFLFDPATLARDEMAMKILTLFWFNH\n",
      "GLHTLPAITAHLDLAIYNHTSFSTSAILKGIAVFVTLYLIDFQPPLRLLHFWLLGVPDSR\n",
      "RTCRTIPPCVHCCLHVHCLPRLRVAIFPRCPRARSRETKEQKKKLKYLFCCGF\n"
     ]
    }
   ],
   "source": [
    "!tail ../blastdb/c*fa"
   ]
  },
  {
   "cell_type": "code",
   "execution_count": null,
   "metadata": {},
   "outputs": [],
   "source": []
  },
  {
   "cell_type": "code",
   "execution_count": 7,
   "metadata": {},
   "outputs": [],
   "source": [
    "#setting blast program directory\n",
    "bldir = \"/Applications/bioinfo/ncbi-blast-2.11.0+/bin/\""
   ]
  },
  {
   "cell_type": "code",
   "execution_count": 8,
   "metadata": {},
   "outputs": [
    {
     "name": "stdout",
     "output_type": "stream",
     "text": [
      "\n",
      "\n",
      "Building a new DB, current time: 01/29/2021 13:54:36\n",
      "New DB name:   /Users/sr320/Documents/GitHub/steven-duck/blastdb/c_elegans.PRJNA13758.WS279.protein\n",
      "New DB title:  ../blastdb/c_elegans.PRJNA13758.WS279.protein.fa\n",
      "Sequence type: Protein\n",
      "Keep MBits: T\n",
      "Maximum file size: 1000000000B\n",
      "Adding sequences from FASTA; added 28353 sequences in 1.65566 seconds.\n",
      "\n",
      "\n"
     ]
    }
   ],
   "source": [
    "!{bldir}makeblastdb \\\n",
    "-in ../blastdb/c_elegans.PRJNA13758.WS279.protein.fa \\\n",
    "-dbtype prot \\\n",
    "-out ../blastdb/c_elegans.PRJNA13758.WS279.protein"
   ]
  },
  {
   "cell_type": "code",
   "execution_count": 9,
   "metadata": {},
   "outputs": [
    {
     "name": "stdout",
     "output_type": "stream",
     "text": [
      "Warning: [blastx] Examining 5 or more matches is recommended\n"
     ]
    }
   ],
   "source": [
    "!{bldir}blastx \\\n",
    "-query ../data/GCF_000297895.1_oyster_v9_cds_from_genomic.fna \\\n",
    "-db ../blastdb/c_elegans.PRJNA13758.WS279.protein  \\\n",
    "-out ../analyses/Cg-c_elRRJ_blastx.tab \\\n",
    "-evalue 1E-20 \\\n",
    "-num_threads 2 \\\n",
    "-max_target_seqs 1 \\\n",
    "-outfmt 6"
   ]
  },
  {
   "cell_type": "markdown",
   "metadata": {},
   "source": [
    "# Using Ensembl to get gene symbols"
   ]
  },
  {
   "cell_type": "markdown",
   "metadata": {},
   "source": [
    "![pick](http://gannet.fish.washington.edu/seashell/snaps/Index_of_pubmetazoarelease-49fastacaenorhabditis_eleganspep_2021-02-03_07-57-40.png)"
   ]
  },
  {
   "cell_type": "code",
   "execution_count": 5,
   "metadata": {},
   "outputs": [
    {
     "name": "stdout",
     "output_type": "stream",
     "text": [
      "\n",
      "\n",
      "Building a new DB, current time: 02/03/2021 08:03:16\n",
      "New DB name:   /Users/sr320/Documents/GitHub/steven-duck/blastdb/Caenorhabditis_elegans.WBcel235.pep\n",
      "New DB title:  ../blastdb/Caenorhabditis_elegans.WBcel235.pep.all.fa\n",
      "Sequence type: Protein\n",
      "Keep MBits: T\n",
      "Maximum file size: 1000000000B\n",
      "Adding sequences from FASTA; added 33552 sequences in 1.75011 seconds.\n",
      "\n",
      "\n"
     ]
    }
   ],
   "source": [
    "%%bash\n",
    "/Applications/bioinfo/ncbi-blast-2.11.0+/bin/makeblastdb \\\n",
    "-in ../blastdb/Caenorhabditis_elegans.WBcel235.pep.all.fa \\\n",
    "-dbtype prot \\\n",
    "-out ../blastdb/Caenorhabditis_elegans.WBcel235.pep"
   ]
  },
  {
   "cell_type": "code",
   "execution_count": null,
   "metadata": {},
   "outputs": [],
   "source": [
    "\n",
    "##running in terminal\n",
    "/Applications/bioinfo/ncbi-blast-2.11.0+/bin/blastx \\\n",
    "-query ../data/GCF_000297895.1_oyster_v9_cds_from_genomic.fna \\\n",
    "-db ../blastdb/Caenorhabditis_elegans.WBcel235.pep  \\\n",
    "-out ../analyses/Cg-WBcel235_blastx.tab \\\n",
    "-evalue 1E-05 \\\n",
    "-num_threads 1 \\\n",
    "-max_target_seqs 1 \\\n",
    "-max_hsps 1 \\\n",
    "-outfmt \"6 qaccver saccver evalue\""
   ]
  },
  {
   "cell_type": "markdown",
   "metadata": {},
   "source": [
    "# prep fasta for symbols"
   ]
  },
  {
   "cell_type": "code",
   "execution_count": 6,
   "metadata": {},
   "outputs": [
    {
     "name": "stdout",
     "output_type": "stream",
     "text": [
      ">Y110A7A.10.1 pep chromosome:WBcel235:I:5107833:5110183:1 gene:WBGene00000001 transcript:Y110A7A.10.1 gene_biotype:protein_coding transcript_biotype:protein_coding gene_symbol:aap-1 description:Phosphoinositide 3-kinase adapter subunit; Phosphoinositide kinase AdAPter subunit  [Source:UniProtKB/TrEMBL;Acc:G5EDP9]\n",
      "MSTTPGTPHGVTHSLMEQGWYWADADRSAVSKALSDQPDGSFIVRNASTPGDYTLSVKFA\n",
      "AQVKLLRIVVKDGKCGFNTDSLTHDSVVRLIEFHRNISLNIFNDALDVRLLYPVSVRRNS\n",
      "QNGKPFFKKGQLQQRMILSAKNDHDWRERLEMENLRAVHLAFERGAKLYDSAHQEMERAE\n",
      "SLYHALNQSVRDNEIKLGKLNNLLEAETDVVTQIQGSQTTSEMLKGAFANNKTFVEESIR\n",
      "RINTELTSSKDKKKTLSGILDEIAMKRSNSKTRLCKLMELRSAVYDKMEPALCSRMAAML\n",
      "DAGAEMINSEPTKVTQLLVDMELKWTPAQYLMCGTSKENAANALIHARYRIAQLDKAVGL\n",
      "KREPQDGIFLIRGSSSHGDKLVLSVLHGERVSHCLIEQNEEGWGFEHSNVYLTTISDFVR\n",
      "YYSHFSLETHADAIKTPLRTPAFDAVTSDTSKPLRNGPGQVFTALPISRKYMEKALLTDD\n",
      "PTKPPESPEPRPDSWDSPSPDTPSSSDSRLVHPTTLPKSIPE\n"
     ]
    }
   ],
   "source": [
    "!head ../blastdb/Caenorhabditis_elegans.WBcel235.pep.all.fa"
   ]
  },
  {
   "cell_type": "code",
   "execution_count": 7,
   "metadata": {},
   "outputs": [
    {
     "name": "stdout",
     "output_type": "stream",
     "text": [
      "\n",
      "Converted 33552 FASTA records in 315422 lines to tabular format\n",
      "Total sequence length: 15907423\n",
      "\n"
     ]
    }
   ],
   "source": [
    "!perl -e '$count=0; $len=0; while(<>) {s/\\r?\\n//; s/\\t/ /g; if (s/^>//) { if ($. != 1) {print \"\\n\"} s/ |$/\\t/; $count++; $_ .= \"\\t\";} else {s/ //g; $len += length($_)} print $_;} print \"\\n\"; warn \"\\nConverted $count FASTA records in $. lines to tabular format\\nTotal sequence length: $len\\n\\n\";' \\\n",
    "../blastdb/Caenorhabditis_elegans.WBcel235.pep.all.fa > ../analyses/Caenorhabditis_elegans.WBcel235.pep.all.tab"
   ]
  },
  {
   "cell_type": "code",
   "execution_count": 8,
   "metadata": {},
   "outputs": [
    {
     "name": "stdout",
     "output_type": "stream",
     "text": [
      "Y110A7A.10.1\tpep chromosome:WBcel235:I:5107833:5110183:1 gene:WBGene00000001 transcript:Y110A7A.10.1 gene_biotype:protein_coding transcript_biotype:protein_coding gene_symbol:aap-1 description:Phosphoinositide 3-kinase adapter subunit; Phosphoinositide kinase AdAPter subunit  [Source:UniProtKB/TrEMBL;Acc:G5EDP9]\tMSTTPGTPHGVTHSLMEQGWYWADADRSAVSKALSDQPDGSFIVRNASTPGDYTLSVKFAAQVKLLRIVVKDGKCGFNTDSLTHDSVVRLIEFHRNISLNIFNDALDVRLLYPVSVRRNSQNGKPFFKKGQLQQRMILSAKNDHDWRERLEMENLRAVHLAFERGAKLYDSAHQEMERAESLYHALNQSVRDNEIKLGKLNNLLEAETDVVTQIQGSQTTSEMLKGAFANNKTFVEESIRRINTELTSSKDKKKTLSGILDEIAMKRSNSKTRLCKLMELRSAVYDKMEPALCSRMAAMLDAGAEMINSEPTKVTQLLVDMELKWTPAQYLMCGTSKENAANALIHARYRIAQLDKAVGLKREPQDGIFLIRGSSSHGDKLVLSVLHGERVSHCLIEQNEEGWGFEHSNVYLTTISDFVRYYSHFSLETHADAIKTPLRTPAFDAVTSDTSKPLRNGPGQVFTALPISRKYMEKALLTDDPTKPPESPEPRPDSWDSPSPDTPSSSDSRLVHPTTLPKSIPE\n",
      "Y110A7A.10.2\tpep chromosome:WBcel235:I:5107843:5110164:1 gene:WBGene00000001 transcript:Y110A7A.10.2 gene_biotype:protein_coding transcript_biotype:protein_coding gene_symbol:aap-1 description:Phosphoinositide 3-kinase adapter subunit; Phosphoinositide kinase AdAPter subunit  [Source:UniProtKB/TrEMBL;Acc:G5EDP9]\tMSTTPGTPHGVTHSLMEQGWYWADADRSAVSKALSDQPDGSFIVRNASTPGDYTLSVKFAAQVKLLRIVVKDGKCGFNTDSLTHDSVVRLIEFHRNISLNIFNDALDVRLLYPVSVRRNSQNGKPFFKKGQLQQRMILSAKNDHDWRERLEMENLRAVHLAFERGAKLYDSAHQEMERAESLYHALNQSVRDNEIKLGKLNNLLEAETDVVTQIQGSQTTSEMLKGAFANNKTFVEESIRRINTELTSSKDKKKTLSGILDEIAMKRSNSKTRLCKLMELRSAVYDKMEPALCSRMAAMLDAGAEMINSEPTKVTQLLVDMELKWTPAQYLMCGTSKENAANALIHARYRIAQLDKAVGLKREPQDGIFLIRGSSSHGDKLVLSVLHGERVSHCLIEQNEEGWGFEHSNVYLTTISDFVRYYSHFSLETHADAIKTPLRTPAFDAVTSDTSKPLRNGPGQVFTALPISRKYMEKALLTDDPTKPPESPEPRPDSWDSPSPDTPSSSDSRLVHPTTLPKSIPE\n",
      "F27C8.1.1\tpep chromosome:WBcel235:IV:9599178:9601695:-1 gene:WBGene00000002 transcript:F27C8.1.1 gene_biotype:protein_coding transcript_biotype:protein_coding gene_symbol:aat-1 description:Amino Acid Transporter  [Source:UniProtKB/TrEMBL;Acc:Q19834]\tMTAEKEPLKSREGDEAPQNETEGKGKGLEKSLTLFNGVSMIVGCIIGSGIFVSPTGVQEQAGSVGLSLIVWLISGIFTAIGAYCYAELGTLIKKSGGDYAYIMEAFGPFVAFIRLWIEAIVVRPCTVTIVALTFAIYGLRPFFPDCAPPDVVAELLAILLIVLMTAINCISVRLATIVQDWFTIAKVVALCLIILTGLGLLFFGESQYKDSFENIFENTSQDFTKVSLAFYSGLFAYSGWNFLNFIVEELQNPKRNLPLAIAISITSCTVIYVLTNVALYTAISPDEMLESPAVAVLFANKLYGKFAFIMPLCVACSTIGSANGVIFTSARLFYSGAREGQMPAVLTMINKKTKTPIPAVILTGALSIAYLLASKDVYQLINYIQISYWLAIGTAIAALFWLRRTMPDASRPIKVPLIWPAIFLAGCIALVLIPMVAAPRDTGIGLLIMLSAVPVYGIFIGWKNKPKWFNEFIDSSTVFIQKLFMVVDEDKED\n",
      "F27C8.1.2\tpep chromosome:WBcel235:IV:9598986:9601695:-1 gene:WBGene00000002 transcript:F27C8.1.2 gene_biotype:protein_coding transcript_biotype:protein_coding gene_symbol:aat-1 description:Amino Acid Transporter  [Source:UniProtKB/TrEMBL;Acc:Q19834]\tMTAEKEPLKSREGDEAPQNETEGKGKGLEKSLTLFNGVSMIVGCIIGSGIFVSPTGVQEQAGSVGLSLIVWLISGIFTAIGAYCYAELGTLIKKSGGDYAYIMEAFGPFVAFIRLWIEAIVVRPCTVTIVALTFAIYGLRPFFPDCAPPDVVAELLAILLIVLMTAINCISVRLATIVQDWFTIAKVVALCLIILTGLGLLFFGESQYKDSFENIFENTSQDFTKVSLAFYSGLFAYSGWNFLNFIVEELQNPKRNLPLAIAISITSCTVIYVLTNVALYTAISPDEMLESPAVAVLFANKLYGKFAFIMPLCVACSTIGSANGVIFTSARLFYSGAREGQMPAVLTMINKKTKTPIPAVILTGALSIAYLLASKDVYQLINYIQISYWLAIGTAIAALFWLRRTMPDASRPIKVPLIWPAIFLAGCIALVLIPMVAAPRDTGIGLLIMLSAVPVYGIFIGWKNKPKWFNEFIDSSTVFIQKLFMVVDEDKED\n",
      "F07C3.7.1\tpep chromosome:WBcel235:V:9244402:9246360:-1 gene:WBGene00000003 transcript:F07C3.7.1 gene_biotype:protein_coding transcript_biotype:protein_coding gene_symbol:aat-2 description:Amino Acid Transporter  [Source:UniProtKB/TrEMBL;Acc:Q19151]\tMNEKEEEVSLNQIKLKPRISLFNGCTIIIGVIIGSGIFVSPKGVLLEAGSAGMSLLIWLLSGVFAMIGAVCYSELGTLIPKSGGDYAYIYEAFGPLPSFLFLWVALVIINPTSLAIIAITCATYALQPFYSCPVPDVVVNLFAGCIIAVLTFINCWDVRMATRTNDFFTITKLIALTLIITCGGYWLSLGHIDNLVMPDVAEGSQTKLSAIAMAFYSGVFSFSGFSYLNFVTEELKNPFRNLPRAIYISIPIVTIVYMLVNIAYFSVLTVDEILDSDAVAITFADKILGTFGSKILMPLFVSFSCVGSLNGILITCSRMFFSGARNSQLPELFAMISIRQLTPIPSLIFLGGTSIVMLFIGNVFQLINYLSFAESLVVFSSVAGLLKLRFTMPENVLNARPIKISLLWPILFFLMCLFLLILPFFHSDPWELIYGVFLVLSGIPIYVLFVYNKYRPGFIQSVWIGFTHFIQKLFYCVPELSSS\n",
      "F52H2.2a.1\tpep chromosome:WBcel235:X:2554231:2557726:1 gene:WBGene00000004 transcript:F52H2.2a.1 gene_biotype:protein_coding transcript_biotype:protein_coding gene_symbol:aat-3 description:Amino Acid Transporter  [Source:UniProtKB/TrEMBL;Acc:A0A0K3AVL7]\tMGKQEQSEPLNQEPSNEHHDEEVGDKGLEKTMTLFNGVSIIVGCIIGSGIFISPTGIQAQAGSVGLSLIVWVLSGLFAGIGAFCYAELGTLIRKSGGDYAYIMEAFGPFLAFLRLWIESIVVRPCTATIVALTFAIYMLKPFYPDCDSPPLSTELIAALLLVLLTAVNCISVKWASKVQDFFFVTKTAALVLIIFTGLWNMVSGKPEAFDSFENIFENTAKDLETASLAFYSGLFAYQGWNYLNFIVEELQNPKRNLPLSIAISCSLCTIIYTLTNVALYTSITPDEMLASPAVAVLFAEKNYGWFAFCMPIFVACSTIGSANGVILTSSRLFYCGAREGQMPNVLTMVNKTTKTPIPAVILTGLLSLLYLLLSNNIYSLINYIQVSYWIAIGGAILALFYFRKTMPDAPRAVKAPIVFPIIFFIGCVLLVLVPVLGNPKDTAIGILIMLSGVPVYLIFIAWKGKPKCIDSLTDSVTIFTQKLFMVVDANKEE\n",
      "F52H2.2b.1\tpep chromosome:WBcel235:X:2552436:2557623:1 gene:WBGene00000004 transcript:F52H2.2b.1 gene_biotype:protein_coding transcript_biotype:protein_coding gene_symbol:aat-3 description:Amino Acid Transporter  [Source:UniProtKB/TrEMBL;Acc:A0A0K3AVL7]\tMSAHSSSFALCPSNGRHTHTHTHKQGLDGHTTIRPKMGKQEQSEPLNQEPSNEHHDEEVGDKGLEKTMTLFNGVSIIVGCIIGSGIFISPTGIQAQAGSVGLSLIVWVLSGLFAGIGAFCYAELGTLIRKSGGDYAYIMEAFGPFLAFLRLWIESIVVRPCTATIVALTFAIYMLKPFYPDCDSPPLSTELIAALLLVLLTAVNCISVKWASKVQDFFFVTKTAALVLIIFTGLWNMVSGKPEAFDSFENIFENTAKDLETASLAFYSGLFAYQGWNYLNFIVEELQNPKRNLPLSIAISCSLCTIIYTLTNVALYTSITPDEMLASPAVAVLFAEKNYGWFAFCMPIFVACSTIGSANGVILTSSRLFYCGAREGQMPNVLTMVNKTTKTPIPAVILTGLLSLLYLLLSNNIYSLINYIQVSYWIAIGGAILALFYFRKTMPDAPRAVKAPIVFPIIFFIGCVLLVLVPVLGNPKDTAIGILIMLSGVPVYLIFIAWKGKPKCIDSLTDSVTIFTQKLFMVVDANKEE\n",
      "T13A10.10a.1\tpep chromosome:WBcel235:IV:6272529:6275713:-1 gene:WBGene00000005 transcript:T13A10.10a.1 gene_biotype:protein_coding transcript_biotype:protein_coding gene_symbol:aat-4 description:Amino Acid Transporter  [Source:UniProtKB/TrEMBL;Acc:Q7YXH5]\tMGSIEGVPTIGDIAASRHQMGLWSCMSYVIANIIGAGIFITPGPILQYTFSNGLALLVWIGCGLISLIGGICYIELGTSIHDPGCDFAYTVYVGWEGIAFSFMWVGVIMSFPASAAVQALTFGQYIVAGMAPIWPLEHPWDGIIEKGLGFALIIVLTILNLYAIDKYASKFQIVVTIAKMLSLAIIIVTGFYYLIFKGQTEYLEHPFEGSNTNPGQISLAFYGALWSFAGWDILNFGTPEIRNPRRTMPIALLGGVSIVTAVYLAMNISYMTVLTPGQIMNSTAVAADFAQITLGGFSYAIPFMIALLLIGTLNSNIFCGSRFTHAAAREGHLPTFLSCINEESNSPRAALLFQLVCTVVVTFIDTNSLINYVSFVMFGQRVFTMTALMWIRYRNIPVHPDAIRVPLIFSFLFWLITIALVVVPFIEEFTQTIVGVGLVLMGVFLYIIFMKPMKLPEFLIRFNDSMTRITCKILFTTPDLKHHSETRTLKSENSGETVVTRFNYEAVASQDDRTKLPTTHVDETGF\n",
      "C55C2.5a.1\tpep chromosome:WBcel235:I:2571782:2576020:-1 gene:WBGene00000006 transcript:C55C2.5a.1 gene_biotype:protein_coding transcript_biotype:protein_coding gene_symbol:aat-5 description:Amino Acid Transporter  [Source:UniProtKB/TrEMBL;Acc:H2KZG9]\tMDESHKMGFLGATSYVIGNIIGSGIFITPASILRNVDSIGLSLLIWVLCAVIAILGAICYIELGTSIREAGCDFAYICYVKWYSIAFAFMWVSVLMTYPATIAICAETFGQYLIEGLKQYYEIDDALVPTCQKLFAYSLLFLVTWMNFFELSKFAARFQILATIAKLFSCMLIIGTGFYFYFVKGWHGYLENPMQGSKYGTGNLILGFYGGLWAFSGWDVLNYSTGEIKHPKRNVPFALLTGISVVTAIYVAINVAYFVVLDVETVKQSDAVAAIFSRETLGDFANVVPFLIGILLIGSLNSNLFSGSRYMYAAARQGHLPACFSCVNTETESPRVAVLAQSVLALVISYIGDLDTLITYVMFGFWAQRIFSLVALLIIRHNHIPVHPDAVRVPLFCIYLFLAITVALVIIPIFYEFQSTALAIAICLFGFVLYYVFIHKAIFPRWLVALNKKVTLWCCILFDCLPDVKGGVQLLASDSSQALLSERLSSTRLSDDSFPDLHSDEKNIMRRNGSAAGLKMLISSVPSSLVDLISDVQ\n",
      "T11F9.4a.1\tpep chromosome:WBcel235:V:11466857:11470663:-1 gene:WBGene00000007 transcript:T11F9.4a.1 gene_biotype:protein_coding transcript_biotype:protein_coding gene_symbol:aat-6 description:Amino Acid Transporter  [Source:UniProtKB/TrEMBL;Acc:Q22397]\tMLNVFGVSASMPDDSRSQKMGLLGAISYIVGNIVGSGIFITPTSIIENVNSVGLSLAIWILAAFISMLGSFCYVELGTSIRLSGGDFAYLCFMKWYPVAFAFMCIGCTINYPATLAVQAQTFAEYVFRGAGVELDETSEFWAKKLLGFSLIILLMFMNFFSLKTFVQRFSILASLAKIAATLLIIITGFYYLIFKHWKQNLEEPFKGSNWNPGPFVNALFAGLFSYDGWDILNFGAEEIENPKRTMPLSIIIGMTCIGVIYVAVNVAYSIVLSPTEMIASNAVAIDFANKTLGAAAFVVPVMVAILLIGSLNSTMFSASRYLQAVSRQGHIPSAISGIAPNCDSPRVALLVHILIAIAVSFLGDPDKLINYVAFAQWSQRAFTMSALLYLRIRGRPRHPDRIQLPIIMPILFFLVCTSMVVISIIDDFKSSAVGLGILLGGLIIFIIFVWDRALPSSHTFRNATHVINEESTKFMQIIFNVVPERVGDEEMKNAIGGAESESEKVPAYKISPTGNGQFKCTRM\n"
     ]
    }
   ],
   "source": [
    "!head ../analyses/Caenorhabditis_elegans.WBcel235.pep.all.tab "
   ]
  },
  {
   "cell_type": "code",
   "execution_count": 24,
   "metadata": {},
   "outputs": [
    {
     "name": "stdout",
     "output_type": "stream",
     "text": [
      "Y110A7A.10.1\tpep chromosome:WBcel235:I:5107833:5110183:1 gene:WBGene00000001 transcript:Y110A7A.10.1 gene_biotype:protein_coding transcript_biotype:protein_coding gene_symbol:aap-1 description:Phosphoinositide 3-kinase adapter subunit; Phosphoinositide kinase AdAPter subunit  [Source:UniProtKB/TrEMBL;Acc:G5EDP9]\tMSTTPGTPHGVTHSLMEQGWYWADADRSAVSKALSDQPDGSFIVRNASTPGDYTLSVKFAAQVKLLRIVVKDGKCGFNTDSLTHDSVVRLIEFHRNISLNIFNDALDVRLLYPVSVRRNSQNGKPFFKKGQLQQRMILSAKNDHDWRERLEMENLRAVHLAFERGAKLYDSAHQEMERAESLYHALNQSVRDNEIKLGKLNNLLEAETDVVTQIQGSQTTSEMLKGAFANNKTFVEESIRRINTELTSSKDKKKTLSGILDEIAMKRSNSKTRLCKLMELRSAVYDKMEPALCSRMAAMLDAGAEMINSEPTKVTQLLVDMELKWTPAQYLMCGTSKENAANALIHARYRIAQLDKAVGLKREPQDGIFLIRGSSSHGDKLVLSVLHGERVSHCLIEQNEEGWGFEHSNVYLTTISDFVRYYSHFSLETHADAIKTPLRTPAFDAVTSDTSKPLRNGPGQVFTALPISRKYMEKALLTDDPTKPPESPEPRPDSWDSPSPDTPSSSDSRLVHPTTLPKSIPE\n"
     ]
    }
   ],
   "source": [
    "!head -1 ../analyses/Caenorhabditis_elegans.WBcel235.pep.all.tab | head"
   ]
  },
  {
   "cell_type": "code",
   "execution_count": 23,
   "metadata": {},
   "outputs": [
    {
     "name": "stdout",
     "output_type": "stream",
     "text": [
      "Y110A7A.10.1\taap-1\n"
     ]
    }
   ],
   "source": [
    "!head -1 ../analyses/Caenorhabditis_elegans.WBcel235.pep.all.tab | sed 's/gene_symbol:/@/g' |   sed 's/ description:/@ /g' | tr '@' \"\\t\" | cut -f1,3 "
   ]
  },
  {
   "cell_type": "code",
   "execution_count": 25,
   "metadata": {},
   "outputs": [
    {
     "name": "stdout",
     "output_type": "stream",
     "text": [
      "Y110A7A.10.1\taap-1\n",
      "Y110A7A.10.2\taap-1\n",
      "F27C8.1.1\taat-1\n",
      "F27C8.1.2\taat-1\n",
      "F07C3.7.1\taat-2\n",
      "F52H2.2a.1\taat-3\n",
      "F52H2.2b.1\taat-3\n",
      "T13A10.10a.1\taat-4\n",
      "C55C2.5a.1\taat-5\n",
      "T11F9.4a.1\taat-6\n"
     ]
    }
   ],
   "source": [
    "!cat ../analyses/Caenorhabditis_elegans.WBcel235.pep.all.tab | sed 's/gene_symbol:/@/g' \\\n",
    "|   sed 's/ description:/@ /g' | tr '@' \"\\t\" | cut -f1,3  | head"
   ]
  },
  {
   "cell_type": "code",
   "execution_count": 26,
   "metadata": {},
   "outputs": [],
   "source": [
    "!cat ../analyses/Caenorhabditis_elegans.WBcel235.pep.all.tab | sed 's/gene_symbol:/@/g' \\\n",
    "| sed 's/ description:/@ /g' | tr '@' \"\\t\" | cut -f1,3  \\\n",
    "> ../analyses/Caenorhabditis_elegans.WBcel235.gene.sym"
   ]
  },
  {
   "cell_type": "code",
   "execution_count": 27,
   "metadata": {},
   "outputs": [
    {
     "name": "stdout",
     "output_type": "stream",
     "text": [
      "Y110A7A.10.1\taap-1\n",
      "Y110A7A.10.2\taap-1\n",
      "F27C8.1.1\taat-1\n",
      "F27C8.1.2\taat-1\n",
      "F07C3.7.1\taat-2\n",
      "F52H2.2a.1\taat-3\n",
      "F52H2.2b.1\taat-3\n",
      "T13A10.10a.1\taat-4\n",
      "C55C2.5a.1\taat-5\n",
      "T11F9.4a.1\taat-6\n"
     ]
    }
   ],
   "source": [
    "!head ../analyses/Caenorhabditis_elegans.WBcel235.gene.sym"
   ]
  },
  {
   "cell_type": "code",
   "execution_count": null,
   "metadata": {},
   "outputs": [],
   "source": []
  }
 ],
 "metadata": {
  "kernelspec": {
   "display_name": "Python 3",
   "language": "python",
   "name": "python3"
  },
  "language_info": {
   "codemirror_mode": {
    "name": "ipython",
    "version": 3
   },
   "file_extension": ".py",
   "mimetype": "text/x-python",
   "name": "python",
   "nbconvert_exporter": "python",
   "pygments_lexer": "ipython3",
   "version": "3.8.3"
  }
 },
 "nbformat": 4,
 "nbformat_minor": 4
}
