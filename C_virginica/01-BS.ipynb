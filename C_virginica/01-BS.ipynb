{
 "cells": [
  {
   "cell_type": "markdown",
   "metadata": {},
   "source": [
    "# Running BS samples from Yaamini's RNA/Meth data through bismark"
   ]
  },
  {
   "cell_type": "raw",
   "metadata": {},
   "source": [
    "3F\n",
    "6M\n",
    "7M\n",
    "9M\n",
    "12M\n",
    "13M\n",
    "16F\n",
    "19F\n",
    "22F\n",
    "23M\n",
    "29F\n",
    "31M\n",
    "35F\n",
    "36F\n",
    "39F\n",
    "41F\n",
    "44F\n",
    "48M\n",
    "50F\n",
    "52F\n",
    "53F\n",
    "54F\n",
    "59M\n",
    "64M\n",
    "76F\n",
    "77F"
   ]
  },
  {
   "cell_type": "markdown",
   "metadata": {},
   "source": [
    "Move to mox.\n",
    "\n"
   ]
  },
  {
   "cell_type": "code",
   "execution_count": 3,
   "metadata": {},
   "outputs": [
    {
     "name": "stdout",
     "output_type": "stream",
     "text": [
      "zsh:1: command not found: wget\n"
     ]
    }
   ],
   "source": [
    "!wget \\\n",
    "-r \\\n",
    "--no-check-certificate \\\n",
    "--no-directories --no-parent \\\n",
    "-P . \\\n",
    "-A \"*M_R*,*F_R*\" \\\n",
    "https://owl.fish.washington.edu/nightingales/C_virginica/"
   ]
  },
  {
   "cell_type": "code",
   "execution_count": null,
   "metadata": {},
   "outputs": [],
   "source": []
  }
 ],
 "metadata": {
  "kernelspec": {
   "display_name": "Python 3",
   "language": "python",
   "name": "python3"
  },
  "language_info": {
   "codemirror_mode": {
    "name": "ipython",
    "version": 3
   },
   "file_extension": ".py",
   "mimetype": "text/x-python",
   "name": "python",
   "nbconvert_exporter": "python",
   "pygments_lexer": "ipython3",
   "version": "3.8.5"
  }
 },
 "nbformat": 4,
 "nbformat_minor": 4
}
