{
 "cells": [
  {
   "cell_type": "code",
   "execution_count": 3,
   "metadata": {},
   "outputs": [
    {
     "name": "stdout",
     "output_type": "stream",
     "text": [
      "  % Total    % Received % Xferd  Average Speed   Time    Time     Time  Current\n",
      "                                 Dload  Upload   Total   Spent    Left  Speed\n",
      "100 18.1M  100 18.1M    0     0  4446k      0  0:00:04  0:00:03  0:00:01 4445k 0     0  4546k      0  0:00:04  0:00:04 --:--:-- 4546k\n"
     ]
    }
   ],
   "source": [
    "!curl --insecure https://owl.fish.washington.edu/halfshell/genomic-databank/cbai_genome_v1.01.fasta > ../data/cbai_genome_v1.01.fasta"
   ]
  },
  {
   "cell_type": "code",
   "execution_count": 4,
   "metadata": {},
   "outputs": [],
   "source": [
    "!mkdir ../blastdb"
   ]
  },
  {
   "cell_type": "code",
   "execution_count": 8,
   "metadata": {},
   "outputs": [
    {
     "name": "stdout",
     "output_type": "stream",
     "text": [
      "\n",
      "\n",
      "Building a new DB, current time: 02/05/2021 15:42:03\n",
      "New DB name:   /Users/sr320/Documents/GitHub/nb-2021/C_bairdi/blastdb/cbai_genome_v1.01\n",
      "New DB title:  ../data/cbai_genome_v1.01.fasta\n",
      "Sequence type: Nucleotide\n",
      "Keep MBits: T\n",
      "Maximum file size: 1000000000B\n",
      "Adding sequences from FASTA; added 2431 sequences in 0.156468 seconds.\n",
      "\n",
      "\n"
     ]
    }
   ],
   "source": [
    "!/Applications/bioinfo/ncbi-blast-2.11.0+/bin/makeblastdb \\\n",
    "-dbtype nucl \\\n",
    "-in ../data/cbai_genome_v1.01.fasta \\\n",
    "-out ../blastdb/cbai_genome_v1.01\n"
   ]
  },
  {
   "cell_type": "code",
   "execution_count": 11,
   "metadata": {},
   "outputs": [],
   "source": [
    "!/Applications/bioinfo/ncbi-blast-2.11.0+/bin/tblastn \\\n",
    "-query ../data/tx135491-prot.fasta \\\n",
    "-db ../blastdb/cbai_genome_v1.01  \\\n",
    "-out ../analyses/tx13_tbn_genome.tab \\\n",
    "-evalue 1E-05 \\\n",
    "-num_threads 8 \\\n",
    "-max_target_seqs 5 \\\n",
    "-outfmt 6"
   ]
  },
  {
   "cell_type": "code",
   "execution_count": 12,
   "metadata": {},
   "outputs": [
    {
     "name": "stdout",
     "output_type": "stream",
     "text": [
      "AFY23223.1\tcontig_3188\t56.436\t101\t43\t1\t41\t140\t15613\t15915\t5.15e-30\t112\n",
      "AFY23223.1\tcontig_84\t56.436\t101\t43\t1\t41\t140\t2012\t2314\t5.49e-30\t112\n",
      "AFY23222.1\tcontig_3188\t81.176\t85\t16\t0\t121\t205\t22558\t22304\t3.49e-41\t147\n",
      "AFY23222.1\tcontig_3188\t80.233\t86\t17\t0\t121\t206\t1487\t1230\t1.37e-40\t145\n",
      "AFY23221.1\tcontig_3188\t82.353\t85\t15\t0\t90\t174\t22558\t22304\t1.82e-41\t147\n",
      "AFY23221.1\tcontig_3188\t82.353\t85\t15\t0\t90\t174\t1487\t1233\t7.06e-41\t145\n",
      "AFY23220.1\tcontig_3188\t72.941\t85\t23\t0\t68\t152\t22558\t22304\t1.63e-36\t132\n",
      "AFY23220.1\tcontig_3188\t72.941\t85\t23\t0\t68\t152\t1487\t1233\t5.30e-36\t130\n",
      "AFY23219.1\tcontig_84\t69.784\t139\t34\t3\t1\t136\t1907\t2308\t4.27e-49\t167\n",
      "AFY23219.1\tcontig_84\t68.966\t29\t9\t0\t39\t67\t1470\t1556\t1.09e-06\t45.8\n"
     ]
    }
   ],
   "source": [
    "!head ../analyses/tx13_tbn_genome.tab"
   ]
  },
  {
   "cell_type": "code",
   "execution_count": null,
   "metadata": {},
   "outputs": [],
   "source": []
  }
 ],
 "metadata": {
  "kernelspec": {
   "display_name": "Python 3",
   "language": "python",
   "name": "python3"
  },
  "language_info": {
   "codemirror_mode": {
    "name": "ipython",
    "version": 3
   },
   "file_extension": ".py",
   "mimetype": "text/x-python",
   "name": "python",
   "nbconvert_exporter": "python",
   "pygments_lexer": "ipython3",
   "version": "3.8.5"
  }
 },
 "nbformat": 4,
 "nbformat_minor": 4
}
