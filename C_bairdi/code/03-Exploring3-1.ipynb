{
 "cells": [
  {
   "cell_type": "markdown",
   "id": "7f93ccb7-92c0-47c1-8b61-6550b7b91869",
   "metadata": {},
   "source": [
    "# Going Deeper in transcriptome v 3.1\n"
   ]
  },
  {
   "cell_type": "code",
   "execution_count": 2,
   "id": "987656b6-e6f7-49ec-b700-3ab3b2df1945",
   "metadata": {},
   "outputs": [
    {
     "name": "stdout",
     "output_type": "stream",
     "text": [
      "cbai_transcriptome_v3.1.blastx.outfmt6.txt\n",
      "hematqpcr_crabRNA.csv\n",
      "tx135491-prot.fasta\n",
      "uniprot-reviewed-20210901.tab\n"
     ]
    }
   ],
   "source": [
    "!ls ../data/"
   ]
  },
  {
   "cell_type": "code",
   "execution_count": 4,
   "id": "044a1ea7-affa-4e5a-b963-5a4ad226ae7e",
   "metadata": {},
   "outputs": [
    {
     "name": "stdout",
     "output_type": "stream",
     "text": [
      "TRINITY_DN5604_c0_g2_i1\tsp|B0KTG8|TRI1_PSEPG\t30.0\t360\t168\t12\t279\t1319\t56\t344\t2.3e-28\t129.0\n",
      "TRINITY_DN9_c4_g1_i10\tsp|Q3SWW9|PP1B_BOVIN\t91.8\t184\t15\t0\t2\t553\t134\t317\t1.0e-102\t374.8\n",
      "TRINITY_DN9_c4_g1_i9\tsp|Q3SWW9|PP1B_BOVIN\t91.8\t184\t15\t0\t2\t553\t134\t317\t1.0e-102\t374.8\n",
      "TRINITY_DN38_c0_g3_i1\tsp|P42867|GPT_MOUSE\t43.8\t432\t205\t7\t135\t1412\t11\t410\t2.9e-92\t341.3\n",
      "TRINITY_DN81_c0_g1_i9\tsp|Q91X83|METK1_MOUSE\t48.8\t377\t188\t2\t89\t1207\t19\t394\t2.5e-102\t374.0\n",
      "TRINITY_DN81_c0_g1_i4\tsp|Q91X83|METK1_MOUSE\t48.8\t377\t188\t2\t89\t1207\t19\t394\t3.0e-102\t374.0\n",
      "TRINITY_DN81_c0_g1_i17\tsp|Q91X83|METK1_MOUSE\t48.8\t377\t188\t2\t89\t1207\t19\t394\t3.1e-102\t374.0\n",
      "TRINITY_DN81_c0_g1_i5\tsp|Q91X83|METK1_MOUSE\t48.8\t377\t188\t2\t89\t1207\t19\t394\t3.0e-102\t374.0\n",
      "TRINITY_DN81_c0_g1_i2\tsp|Q91X83|METK1_MOUSE\t48.8\t377\t188\t2\t89\t1207\t19\t394\t3.1e-102\t374.0\n",
      "TRINITY_DN81_c0_g1_i13\tsp|Q91X83|METK1_MOUSE\t48.8\t377\t188\t2\t89\t1207\t19\t394\t2.8e-102\t374.0\n"
     ]
    }
   ],
   "source": [
    "!head ../data/cbai_transcriptome_v3.1.blastx.outfmt6.txt"
   ]
  },
  {
   "cell_type": "code",
   "execution_count": 1,
   "id": "30b0dc24-e1c2-4a19-b2a8-672d4b824420",
   "metadata": {},
   "outputs": [
    {
     "name": "stdout",
     "output_type": "stream",
     "text": [
      "   50038 ../data/cbai_transcriptome_v3.1.blastx.outfmt6.txt\n"
     ]
    }
   ],
   "source": [
    "!wc -l ../data/cbai_transcriptome_v3.1.blastx.outfmt6.txt"
   ]
  },
  {
   "cell_type": "code",
   "execution_count": 4,
   "id": "0275db7b-2980-45b8-bbb3-1179b12b1458",
   "metadata": {},
   "outputs": [
    {
     "name": "stdout",
     "output_type": "stream",
     "text": [
      "Entry\tEntry name\tStatus\tProtein names\tGene names\tOrganism\tLength\tDevelopmental stage\tInduction\tTissue specificity\tGene ontology (biological process)\tCross-reference (InterPro)\tCross-reference (PANTHER)\tCross-reference (PathwayCommons)\tCross-reference (KEGG)\tEnsemblMetazoa transcript\n",
      "B6J853\tMIAB_COXB1\treviewed\ttRNA-2-methylthio-N(6)-dimethylallyladenosine synthase (EC 2.8.4.3) ((Dimethylallyl)adenosine tRNA methylthiotransferase MiaB) (tRNA-i(6)A37 methylthiotransferase)\tmiaB CbuK_1268\tCoxiella burnetii (strain CbuK_Q154) (Coxiella burnetii (strain Q154))\t439\t\t\t\ttRNA modification [GO:0006400]\tIPR006638;IPR005839;IPR020612;IPR013848;IPR038135;IPR006463;IPR007197;IPR023404;IPR002792;\t\t\tcbc:CbuK_1268;\t\n"
     ]
    }
   ],
   "source": [
    "!head -2 ../data/uniprot-reviewed-20210901.tab"
   ]
  },
  {
   "cell_type": "markdown",
   "id": "463ff17f-f290-4b70-a728-b89d9e193d78",
   "metadata": {},
   "source": [
    "## pull out cbai SP IDs. "
   ]
  },
  {
   "cell_type": "code",
   "execution_count": 5,
   "id": "4b569982-b242-4c9e-af84-2b7ff876c73b",
   "metadata": {},
   "outputs": [],
   "source": [
    "blastout=\"../data/cbai_transcriptome_v3.1.blastx.outfmt6.txt\"\n"
   ]
  },
  {
   "cell_type": "code",
   "execution_count": 6,
   "id": "8183d16a-2a8d-4dc4-a88f-c47ae50407a2",
   "metadata": {},
   "outputs": [
    {
     "name": "stdout",
     "output_type": "stream",
     "text": [
      "TRINITY_DN5604_c0_g2_i1\tsp|B0KTG8|TRI1_PSEPG\t30.0\t360\t168\t12\t279\t1319\t56\t344\t2.3e-28\t129.0\n",
      "TRINITY_DN9_c4_g1_i10\tsp|Q3SWW9|PP1B_BOVIN\t91.8\t184\t15\t0\t2\t553\t134\t317\t1.0e-102\t374.8\n"
     ]
    }
   ],
   "source": [
    "!head -2 $blastout\n"
   ]
  },
  {
   "cell_type": "code",
   "execution_count": 14,
   "id": "f1490010-59e5-4528-9a1d-4b03013aaa1d",
   "metadata": {},
   "outputs": [],
   "source": [
    "!tr '|' '\\t' < $blastout \\\n",
    "> ../analyses/_blast-sep.tab"
   ]
  },
  {
   "cell_type": "code",
   "execution_count": 15,
   "id": "339844a7-3f64-479e-a6fa-064e2b7bb6e5",
   "metadata": {},
   "outputs": [
    {
     "name": "stdout",
     "output_type": "stream",
     "text": [
      "TRINITY_DN5604_c0_g2_i1\tsp\tB0KTG8\tTRI1_PSEPG\t30.0\t360\t168\t12\t279\t1319\t56\t344\t2.3e-28\t129.0\n",
      "TRINITY_DN9_c4_g1_i10\tsp\tQ3SWW9\tPP1B_BOVIN\t91.8\t184\t15\t0\t2\t553\t134\t317\t1.0e-102\t374.8\n"
     ]
    }
   ],
   "source": [
    "!head -2 ../analyses/_blast-sep.tab"
   ]
  },
  {
   "cell_type": "code",
   "execution_count": 17,
   "id": "1d95eb78-6e08-45ce-af9c-cfb49e0156a5",
   "metadata": {},
   "outputs": [
    {
     "name": "stdout",
     "output_type": "stream",
     "text": [
      "A0A087WPF7\tTRINITY_DN5521_c0_g1_i1\t7.9e-06\n",
      "A0A0B4J2F2\tTRINITY_DN97262_c0_g1_i1\t3.6e-10\n"
     ]
    }
   ],
   "source": [
    "#reducing number of columns and sorting \n",
    "!awk -v OFS='\\t' '{print $3, $1, $13}' < ../analyses/_blast-sep.tab | sort \\\n",
    "> ../analyses/_blast-sort.tab\n",
    "!head -2 ../analyses/_blast-sort.tab\n"
   ]
  },
  {
   "cell_type": "code",
   "execution_count": null,
   "id": "fe85e93c-8266-4512-b6c4-6fe73dda9b31",
   "metadata": {},
   "outputs": [],
   "source": [
    "#joining blast with uniprot annoation file and reducing to three columns UniprotID, Query, All GO terms\n",
    "!join -t $'\\t' \\\n",
    "../analyses/_blast-sort.tab \\\n",
    "uniprot-SP-GO.sorted \\\n",
    "| cut -f1,2,14 \\\n",
    "> _blast-annot.tab"
   ]
  },
  {
   "cell_type": "code",
   "execution_count": 18,
   "id": "073986c5-25d0-41e5-9e17-bdf2e1239dd9",
   "metadata": {},
   "outputs": [
    {
     "ename": "SyntaxError",
     "evalue": "invalid syntax (<ipython-input-18-2f94af601bfa>, line 1)",
     "output_type": "error",
     "traceback": [
      "\u001b[0;36m  File \u001b[0;32m\"<ipython-input-18-2f94af601bfa>\"\u001b[0;36m, line \u001b[0;32m1\u001b[0m\n\u001b[0;31m    Lets do in R!!!!\u001b[0m\n\u001b[0m         ^\u001b[0m\n\u001b[0;31mSyntaxError\u001b[0m\u001b[0;31m:\u001b[0m invalid syntax\n"
     ]
    }
   ],
   "source": [
    "Lets do in R!!!!"
   ]
  },
  {
   "cell_type": "code",
   "execution_count": null,
   "id": "ebdf82d7-62fe-47ee-a4b1-6537fbd1d492",
   "metadata": {},
   "outputs": [],
   "source": []
  }
 ],
 "metadata": {
  "kernelspec": {
   "display_name": "Python 3",
   "language": "python",
   "name": "python3"
  },
  "language_info": {
   "codemirror_mode": {
    "name": "ipython",
    "version": 3
   },
   "file_extension": ".py",
   "mimetype": "text/x-python",
   "name": "python",
   "nbconvert_exporter": "python",
   "pygments_lexer": "ipython3",
   "version": "3.8.8"
  }
 },
 "nbformat": 4,
 "nbformat_minor": 5
}
