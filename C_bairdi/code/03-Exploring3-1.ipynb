{
 "cells": [
  {
   "cell_type": "markdown",
   "id": "7f93ccb7-92c0-47c1-8b61-6550b7b91869",
   "metadata": {},
   "source": [
    "# Going Deeper in transcriptome v 3.1\n"
   ]
  },
  {
   "cell_type": "code",
   "execution_count": 2,
   "id": "987656b6-e6f7-49ec-b700-3ab3b2df1945",
   "metadata": {},
   "outputs": [
    {
     "name": "stdout",
     "output_type": "stream",
     "text": [
      "cbai_transcriptome_v3.1.blastx.outfmt6.txt\n",
      "hematqpcr_crabRNA.csv\n",
      "tx135491-prot.fasta\n",
      "uniprot-reviewed-20210901.tab\n"
     ]
    }
   ],
   "source": [
    "!ls ../data/"
   ]
  },
  {
   "cell_type": "code",
   "execution_count": 4,
   "id": "044a1ea7-affa-4e5a-b963-5a4ad226ae7e",
   "metadata": {},
   "outputs": [
    {
     "name": "stdout",
     "output_type": "stream",
     "text": [
      "TRINITY_DN5604_c0_g2_i1\tsp|B0KTG8|TRI1_PSEPG\t30.0\t360\t168\t12\t279\t1319\t56\t344\t2.3e-28\t129.0\n",
      "TRINITY_DN9_c4_g1_i10\tsp|Q3SWW9|PP1B_BOVIN\t91.8\t184\t15\t0\t2\t553\t134\t317\t1.0e-102\t374.8\n",
      "TRINITY_DN9_c4_g1_i9\tsp|Q3SWW9|PP1B_BOVIN\t91.8\t184\t15\t0\t2\t553\t134\t317\t1.0e-102\t374.8\n",
      "TRINITY_DN38_c0_g3_i1\tsp|P42867|GPT_MOUSE\t43.8\t432\t205\t7\t135\t1412\t11\t410\t2.9e-92\t341.3\n",
      "TRINITY_DN81_c0_g1_i9\tsp|Q91X83|METK1_MOUSE\t48.8\t377\t188\t2\t89\t1207\t19\t394\t2.5e-102\t374.0\n",
      "TRINITY_DN81_c0_g1_i4\tsp|Q91X83|METK1_MOUSE\t48.8\t377\t188\t2\t89\t1207\t19\t394\t3.0e-102\t374.0\n",
      "TRINITY_DN81_c0_g1_i17\tsp|Q91X83|METK1_MOUSE\t48.8\t377\t188\t2\t89\t1207\t19\t394\t3.1e-102\t374.0\n",
      "TRINITY_DN81_c0_g1_i5\tsp|Q91X83|METK1_MOUSE\t48.8\t377\t188\t2\t89\t1207\t19\t394\t3.0e-102\t374.0\n",
      "TRINITY_DN81_c0_g1_i2\tsp|Q91X83|METK1_MOUSE\t48.8\t377\t188\t2\t89\t1207\t19\t394\t3.1e-102\t374.0\n",
      "TRINITY_DN81_c0_g1_i13\tsp|Q91X83|METK1_MOUSE\t48.8\t377\t188\t2\t89\t1207\t19\t394\t2.8e-102\t374.0\n"
     ]
    }
   ],
   "source": [
    "!head ../data/cbai_transcriptome_v3.1.blastx.outfmt6.txt"
   ]
  },
  {
   "cell_type": "code",
   "execution_count": 1,
   "id": "30b0dc24-e1c2-4a19-b2a8-672d4b824420",
   "metadata": {},
   "outputs": [
    {
     "name": "stdout",
     "output_type": "stream",
     "text": [
      "   50038 ../data/cbai_transcriptome_v3.1.blastx.outfmt6.txt\n"
     ]
    }
   ],
   "source": [
    "!wc -l ../data/cbai_transcriptome_v3.1.blastx.outfmt6.txt"
   ]
  },
  {
   "cell_type": "code",
   "execution_count": null,
   "id": "0275db7b-2980-45b8-bbb3-1179b12b1458",
   "metadata": {},
   "outputs": [],
   "source": [
    "!head ../data/um"
   ]
  }
 ],
 "metadata": {
  "kernelspec": {
   "display_name": "Python 3",
   "language": "python",
   "name": "python3"
  },
  "language_info": {
   "codemirror_mode": {
    "name": "ipython",
    "version": 3
   },
   "file_extension": ".py",
   "mimetype": "text/x-python",
   "name": "python",
   "nbconvert_exporter": "python",
   "pygments_lexer": "ipython3",
   "version": "3.8.8"
  }
 },
 "nbformat": 4,
 "nbformat_minor": 5
}
